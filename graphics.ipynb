{
 "cells": [
  {
   "cell_type": "code",
   "execution_count": 1,
   "id": "ead04303-2417-49ed-8483-17675e112da4",
   "metadata": {},
   "outputs": [],
   "source": [
    "import pandas as pd\n",
    "import plotly.express as px"
   ]
  },
  {
   "cell_type": "code",
   "execution_count": 2,
   "id": "15a62a36-0144-439a-abb2-111acd7204bb",
   "metadata": {},
   "outputs": [],
   "source": [
    "df = pd.read_csv('original_data.csv').drop(columns=['Unnamed: 0'])"
   ]
  },
  {
   "cell_type": "code",
   "execution_count": 3,
   "id": "5b37796f-084d-4e28-b117-1613b2a6c8d8",
   "metadata": {},
   "outputs": [
    {
     "data": {
      "text/html": [
       "<div>\n",
       "<style scoped>\n",
       "    .dataframe tbody tr th:only-of-type {\n",
       "        vertical-align: middle;\n",
       "    }\n",
       "\n",
       "    .dataframe tbody tr th {\n",
       "        vertical-align: top;\n",
       "    }\n",
       "\n",
       "    .dataframe thead th {\n",
       "        text-align: right;\n",
       "    }\n",
       "</style>\n",
       "<table border=\"1\" class=\"dataframe\">\n",
       "  <thead>\n",
       "    <tr style=\"text-align: right;\">\n",
       "      <th></th>\n",
       "      <th>name</th>\n",
       "      <th>gender</th>\n",
       "      <th>age</th>\n",
       "      <th>city</th>\n",
       "      <th>working_professional_or_student</th>\n",
       "      <th>profession</th>\n",
       "      <th>academic_pressure</th>\n",
       "      <th>work_pressure</th>\n",
       "      <th>cgpa</th>\n",
       "      <th>study_satisfaction</th>\n",
       "      <th>job_satisfaction</th>\n",
       "      <th>sleep_duration</th>\n",
       "      <th>dietary_habits</th>\n",
       "      <th>degree</th>\n",
       "      <th>have_you_ever_had_suicidal_thoughts_?</th>\n",
       "      <th>work/study_hours</th>\n",
       "      <th>financial_stress</th>\n",
       "      <th>family_history_of_mental_illness</th>\n",
       "      <th>depression</th>\n",
       "    </tr>\n",
       "  </thead>\n",
       "  <tbody>\n",
       "    <tr>\n",
       "      <th>0</th>\n",
       "      <td>Pooja</td>\n",
       "      <td>Female</td>\n",
       "      <td>37</td>\n",
       "      <td>Ghaziabad</td>\n",
       "      <td>Working Professional</td>\n",
       "      <td>Teacher</td>\n",
       "      <td>NaN</td>\n",
       "      <td>2.0</td>\n",
       "      <td>NaN</td>\n",
       "      <td>NaN</td>\n",
       "      <td>4.0</td>\n",
       "      <td>7-8 hours</td>\n",
       "      <td>Moderate</td>\n",
       "      <td>MA</td>\n",
       "      <td>No</td>\n",
       "      <td>6</td>\n",
       "      <td>2</td>\n",
       "      <td>No</td>\n",
       "      <td>No</td>\n",
       "    </tr>\n",
       "    <tr>\n",
       "      <th>1</th>\n",
       "      <td>Reyansh</td>\n",
       "      <td>Male</td>\n",
       "      <td>60</td>\n",
       "      <td>Kalyan</td>\n",
       "      <td>Working Professional</td>\n",
       "      <td>Financial Analyst</td>\n",
       "      <td>NaN</td>\n",
       "      <td>4.0</td>\n",
       "      <td>NaN</td>\n",
       "      <td>NaN</td>\n",
       "      <td>3.0</td>\n",
       "      <td>5-6 hours</td>\n",
       "      <td>Unhealthy</td>\n",
       "      <td>B.Com</td>\n",
       "      <td>Yes</td>\n",
       "      <td>0</td>\n",
       "      <td>4</td>\n",
       "      <td>Yes</td>\n",
       "      <td>No</td>\n",
       "    </tr>\n",
       "    <tr>\n",
       "      <th>2</th>\n",
       "      <td>Manvi</td>\n",
       "      <td>Female</td>\n",
       "      <td>42</td>\n",
       "      <td>Bhopal</td>\n",
       "      <td>Working Professional</td>\n",
       "      <td>Teacher</td>\n",
       "      <td>NaN</td>\n",
       "      <td>2.0</td>\n",
       "      <td>NaN</td>\n",
       "      <td>NaN</td>\n",
       "      <td>3.0</td>\n",
       "      <td>5-6 hours</td>\n",
       "      <td>Moderate</td>\n",
       "      <td>M.Com</td>\n",
       "      <td>No</td>\n",
       "      <td>0</td>\n",
       "      <td>2</td>\n",
       "      <td>No</td>\n",
       "      <td>No</td>\n",
       "    </tr>\n",
       "    <tr>\n",
       "      <th>3</th>\n",
       "      <td>Isha</td>\n",
       "      <td>Female</td>\n",
       "      <td>44</td>\n",
       "      <td>Thane</td>\n",
       "      <td>Working Professional</td>\n",
       "      <td>Teacher</td>\n",
       "      <td>NaN</td>\n",
       "      <td>3.0</td>\n",
       "      <td>NaN</td>\n",
       "      <td>NaN</td>\n",
       "      <td>5.0</td>\n",
       "      <td>7-8 hours</td>\n",
       "      <td>Healthy</td>\n",
       "      <td>MD</td>\n",
       "      <td>Yes</td>\n",
       "      <td>1</td>\n",
       "      <td>2</td>\n",
       "      <td>Yes</td>\n",
       "      <td>No</td>\n",
       "    </tr>\n",
       "    <tr>\n",
       "      <th>4</th>\n",
       "      <td>Aarav</td>\n",
       "      <td>Male</td>\n",
       "      <td>48</td>\n",
       "      <td>Indore</td>\n",
       "      <td>Working Professional</td>\n",
       "      <td>UX/UI Designer</td>\n",
       "      <td>NaN</td>\n",
       "      <td>4.0</td>\n",
       "      <td>NaN</td>\n",
       "      <td>NaN</td>\n",
       "      <td>3.0</td>\n",
       "      <td>7-8 hours</td>\n",
       "      <td>Moderate</td>\n",
       "      <td>BE</td>\n",
       "      <td>Yes</td>\n",
       "      <td>6</td>\n",
       "      <td>5</td>\n",
       "      <td>Yes</td>\n",
       "      <td>No</td>\n",
       "    </tr>\n",
       "    <tr>\n",
       "      <th>...</th>\n",
       "      <td>...</td>\n",
       "      <td>...</td>\n",
       "      <td>...</td>\n",
       "      <td>...</td>\n",
       "      <td>...</td>\n",
       "      <td>...</td>\n",
       "      <td>...</td>\n",
       "      <td>...</td>\n",
       "      <td>...</td>\n",
       "      <td>...</td>\n",
       "      <td>...</td>\n",
       "      <td>...</td>\n",
       "      <td>...</td>\n",
       "      <td>...</td>\n",
       "      <td>...</td>\n",
       "      <td>...</td>\n",
       "      <td>...</td>\n",
       "      <td>...</td>\n",
       "      <td>...</td>\n",
       "    </tr>\n",
       "    <tr>\n",
       "      <th>2551</th>\n",
       "      <td>Raghavendra</td>\n",
       "      <td>Male</td>\n",
       "      <td>25</td>\n",
       "      <td>Bangalore</td>\n",
       "      <td>Working Professional</td>\n",
       "      <td>Consultant</td>\n",
       "      <td>NaN</td>\n",
       "      <td>1.0</td>\n",
       "      <td>NaN</td>\n",
       "      <td>NaN</td>\n",
       "      <td>5.0</td>\n",
       "      <td>5-6 hours</td>\n",
       "      <td>Healthy</td>\n",
       "      <td>BBA</td>\n",
       "      <td>Yes</td>\n",
       "      <td>12</td>\n",
       "      <td>3</td>\n",
       "      <td>Yes</td>\n",
       "      <td>No</td>\n",
       "    </tr>\n",
       "    <tr>\n",
       "      <th>2552</th>\n",
       "      <td>Pihu</td>\n",
       "      <td>Female</td>\n",
       "      <td>23</td>\n",
       "      <td>Pune</td>\n",
       "      <td>Working Professional</td>\n",
       "      <td>Teacher</td>\n",
       "      <td>NaN</td>\n",
       "      <td>3.0</td>\n",
       "      <td>NaN</td>\n",
       "      <td>NaN</td>\n",
       "      <td>1.0</td>\n",
       "      <td>Less than 5 hours</td>\n",
       "      <td>Moderate</td>\n",
       "      <td>MA</td>\n",
       "      <td>Yes</td>\n",
       "      <td>8</td>\n",
       "      <td>3</td>\n",
       "      <td>No</td>\n",
       "      <td>Yes</td>\n",
       "    </tr>\n",
       "    <tr>\n",
       "      <th>2553</th>\n",
       "      <td>Sara</td>\n",
       "      <td>Female</td>\n",
       "      <td>24</td>\n",
       "      <td>Srinagar</td>\n",
       "      <td>Working Professional</td>\n",
       "      <td>HR Manager</td>\n",
       "      <td>NaN</td>\n",
       "      <td>1.0</td>\n",
       "      <td>NaN</td>\n",
       "      <td>NaN</td>\n",
       "      <td>4.0</td>\n",
       "      <td>Less than 5 hours</td>\n",
       "      <td>Moderate</td>\n",
       "      <td>BA</td>\n",
       "      <td>Yes</td>\n",
       "      <td>4</td>\n",
       "      <td>4</td>\n",
       "      <td>No</td>\n",
       "      <td>No</td>\n",
       "    </tr>\n",
       "    <tr>\n",
       "      <th>2554</th>\n",
       "      <td>Eshita</td>\n",
       "      <td>Female</td>\n",
       "      <td>56</td>\n",
       "      <td>Bangalore</td>\n",
       "      <td>Working Professional</td>\n",
       "      <td>Business Analyst</td>\n",
       "      <td>NaN</td>\n",
       "      <td>2.0</td>\n",
       "      <td>NaN</td>\n",
       "      <td>NaN</td>\n",
       "      <td>3.0</td>\n",
       "      <td>7-8 hours</td>\n",
       "      <td>Healthy</td>\n",
       "      <td>BBA</td>\n",
       "      <td>No</td>\n",
       "      <td>4</td>\n",
       "      <td>5</td>\n",
       "      <td>Yes</td>\n",
       "      <td>No</td>\n",
       "    </tr>\n",
       "    <tr>\n",
       "      <th>2555</th>\n",
       "      <td>Kiran</td>\n",
       "      <td>Male</td>\n",
       "      <td>18</td>\n",
       "      <td>Surat</td>\n",
       "      <td>Student</td>\n",
       "      <td>NaN</td>\n",
       "      <td>5.0</td>\n",
       "      <td>NaN</td>\n",
       "      <td>6.7</td>\n",
       "      <td>3.0</td>\n",
       "      <td>NaN</td>\n",
       "      <td>More than 8 hours</td>\n",
       "      <td>Unhealthy</td>\n",
       "      <td>Class 12</td>\n",
       "      <td>No</td>\n",
       "      <td>6</td>\n",
       "      <td>2</td>\n",
       "      <td>Yes</td>\n",
       "      <td>Yes</td>\n",
       "    </tr>\n",
       "  </tbody>\n",
       "</table>\n",
       "<p>2556 rows × 19 columns</p>\n",
       "</div>"
      ],
      "text/plain": [
       "             name  gender  age       city working_professional_or_student  \\\n",
       "0           Pooja  Female   37  Ghaziabad            Working Professional   \n",
       "1         Reyansh    Male   60     Kalyan            Working Professional   \n",
       "2           Manvi  Female   42     Bhopal            Working Professional   \n",
       "3            Isha  Female   44      Thane            Working Professional   \n",
       "4           Aarav    Male   48     Indore            Working Professional   \n",
       "...           ...     ...  ...        ...                             ...   \n",
       "2551  Raghavendra    Male   25  Bangalore            Working Professional   \n",
       "2552         Pihu  Female   23       Pune            Working Professional   \n",
       "2553         Sara  Female   24   Srinagar            Working Professional   \n",
       "2554       Eshita  Female   56  Bangalore            Working Professional   \n",
       "2555        Kiran    Male   18      Surat                         Student   \n",
       "\n",
       "             profession  academic_pressure  work_pressure  cgpa  \\\n",
       "0               Teacher                NaN            2.0   NaN   \n",
       "1     Financial Analyst                NaN            4.0   NaN   \n",
       "2               Teacher                NaN            2.0   NaN   \n",
       "3               Teacher                NaN            3.0   NaN   \n",
       "4        UX/UI Designer                NaN            4.0   NaN   \n",
       "...                 ...                ...            ...   ...   \n",
       "2551         Consultant                NaN            1.0   NaN   \n",
       "2552            Teacher                NaN            3.0   NaN   \n",
       "2553         HR Manager                NaN            1.0   NaN   \n",
       "2554   Business Analyst                NaN            2.0   NaN   \n",
       "2555                NaN                5.0            NaN   6.7   \n",
       "\n",
       "      study_satisfaction  job_satisfaction     sleep_duration dietary_habits  \\\n",
       "0                    NaN               4.0          7-8 hours       Moderate   \n",
       "1                    NaN               3.0          5-6 hours      Unhealthy   \n",
       "2                    NaN               3.0          5-6 hours       Moderate   \n",
       "3                    NaN               5.0          7-8 hours        Healthy   \n",
       "4                    NaN               3.0          7-8 hours       Moderate   \n",
       "...                  ...               ...                ...            ...   \n",
       "2551                 NaN               5.0          5-6 hours        Healthy   \n",
       "2552                 NaN               1.0  Less than 5 hours       Moderate   \n",
       "2553                 NaN               4.0  Less than 5 hours       Moderate   \n",
       "2554                 NaN               3.0          7-8 hours        Healthy   \n",
       "2555                 3.0               NaN  More than 8 hours      Unhealthy   \n",
       "\n",
       "        degree have_you_ever_had_suicidal_thoughts_?  work/study_hours  \\\n",
       "0           MA                                    No                 6   \n",
       "1        B.Com                                   Yes                 0   \n",
       "2        M.Com                                    No                 0   \n",
       "3           MD                                   Yes                 1   \n",
       "4           BE                                   Yes                 6   \n",
       "...        ...                                   ...               ...   \n",
       "2551       BBA                                   Yes                12   \n",
       "2552        MA                                   Yes                 8   \n",
       "2553        BA                                   Yes                 4   \n",
       "2554       BBA                                    No                 4   \n",
       "2555  Class 12                                    No                 6   \n",
       "\n",
       "      financial_stress family_history_of_mental_illness depression  \n",
       "0                    2                               No         No  \n",
       "1                    4                              Yes         No  \n",
       "2                    2                               No         No  \n",
       "3                    2                              Yes         No  \n",
       "4                    5                              Yes         No  \n",
       "...                ...                              ...        ...  \n",
       "2551                 3                              Yes         No  \n",
       "2552                 3                               No        Yes  \n",
       "2553                 4                               No         No  \n",
       "2554                 5                              Yes         No  \n",
       "2555                 2                              Yes        Yes  \n",
       "\n",
       "[2556 rows x 19 columns]"
      ]
     },
     "execution_count": 3,
     "metadata": {},
     "output_type": "execute_result"
    }
   ],
   "source": [
    "df"
   ]
  },
  {
   "cell_type": "code",
   "execution_count": 4,
   "id": "20b04399-f90b-44a1-bd52-025489c3cbbe",
   "metadata": {},
   "outputs": [],
   "source": [
    "generalized_profession_to_area = {\n",
    "    \"Teacher\": \"Education\",\n",
    "    \"Content Writer\": \"Writing\",\n",
    "    \"HR Manager\": \"Human Resources\",\n",
    "    \"Pharmacist\": \"Health\",\n",
    "    \"Architect\": \"Construction\",\n",
    "    \"Consultant\": \"Consulting\",\n",
    "    \"Business Analyst\": \"Consulting\",\n",
    "    \"Doctor\": \"Health\",\n",
    "    \"Entrepreneur\": \"Business\",\n",
    "    \"Chef\": \"Gastronomy\",\n",
    "    \"Chemist\": \"Health\",\n",
    "    \"Lawyer\": \"Law\",\n",
    "    \"Travel Consultant\": \"Travel\",\n",
    "    \"Researcher\": \"Scientist\",\n",
    "    \"Educational Consultant\": \"Education\",\n",
    "    \"Manager\": \"Business\",\n",
    "    \"Data Scientist\": \"Technology\",\n",
    "    \"Judge\": \"Law\",\n",
    "    \"Customer Support\": \"Customer Service\",\n",
    "    \"Marketing Manager\": \"Digital\",\n",
    "    \"Pilot\": \"Travel\",\n",
    "    \"Finanancial Analyst\": \"Finance\",\n",
    "    \"Financial Analyst\": \"Finance\",\n",
    "    \"Plumber\": \"General services\",\n",
    "    \"Software Engineer\": \"Technology\",\n",
    "    \"Electrician\": \"Engineer\",\n",
    "    \"Sales Executive\": \"Finance\",\n",
    "    \"Digital Marketer\": \"Technology\",\n",
    "    \"Civil Engineer\": \"Engineer\",\n",
    "    \"Mechanical Engineer\": \"Engineer\",\n",
    "    \"UX/UI Designer\": \"Technology\",\n",
    "    \"Graphic Designer\": \"Technology\",\n",
    "    \"Accountant\": \"Finance\",\n",
    "    \"Research Analyst\": \"Finance\",\n",
    "    \"Investment Banker\": \"Finance\"\n",
    "}\n",
    "\n",
    "# Atualizar a coluna 'area' com o mapeamento generalizado\n",
    "df['area'] = df['profession'].map(generalized_profession_to_area)"
   ]
  },
  {
   "cell_type": "code",
   "execution_count": 46,
   "id": "0aa2bb39-e2d4-4fe1-97ec-a4ae119baa31",
   "metadata": {},
   "outputs": [
    {
     "data": {
      "application/vnd.plotly.v1+json": {
       "config": {
        "plotlyServerURL": "https://plot.ly"
       },
       "data": [
        {
         "alignmentgroup": "True",
         "bingroup": "x",
         "hovertemplate": "Depressão=No<br>Idade=%{x}<br>count=%{y}<extra></extra>",
         "legendgroup": "No",
         "marker": {
          "color": "#F9F459",
          "pattern": {
           "shape": ""
          }
         },
         "name": "No",
         "nbinsx": 40,
         "offsetgroup": "No",
         "orientation": "v",
         "showlegend": true,
         "type": "histogram",
         "x": [
          37,
          60,
          42,
          44,
          48,
          60,
          30,
          30,
          56,
          35,
          21,
          57,
          54,
          51,
          51,
          31,
          28,
          60,
          28,
          58,
          51,
          47,
          50,
          46,
          38,
          54,
          51,
          44,
          45,
          58,
          45,
          23,
          38,
          31,
          31,
          56,
          53,
          45,
          49,
          57,
          43,
          56,
          30,
          57,
          33,
          47,
          28,
          54,
          49,
          37,
          36,
          46,
          51,
          42,
          46,
          45,
          50,
          35,
          49,
          43,
          47,
          42,
          46,
          48,
          23,
          48,
          35,
          60,
          33,
          41,
          53,
          27,
          31,
          52,
          51,
          43,
          26,
          22,
          34,
          59,
          50,
          44,
          59,
          58,
          49,
          55,
          45,
          37,
          35,
          55,
          25,
          45,
          24,
          44,
          41,
          40,
          37,
          48,
          58,
          31,
          56,
          33,
          26,
          49,
          41,
          31,
          47,
          30,
          38,
          51,
          49,
          47,
          47,
          45,
          51,
          55,
          56,
          58,
          59,
          57,
          60,
          18,
          20,
          44,
          56,
          21,
          49,
          51,
          41,
          37,
          36,
          35,
          46,
          33,
          35,
          24,
          55,
          28,
          51,
          60,
          37,
          45,
          36,
          51,
          38,
          26,
          51,
          40,
          57,
          38,
          49,
          45,
          48,
          22,
          43,
          39,
          49,
          26,
          55,
          37,
          28,
          35,
          54,
          53,
          25,
          53,
          55,
          29,
          48,
          22,
          35,
          46,
          46,
          47,
          45,
          24,
          29,
          53,
          37,
          31,
          51,
          24,
          49,
          20,
          51,
          53,
          48,
          31,
          43,
          56,
          21,
          51,
          20,
          58,
          24,
          36,
          34,
          40,
          25,
          56,
          25,
          55,
          41,
          24,
          27,
          31,
          44,
          57,
          23,
          32,
          47,
          60,
          25,
          33,
          26,
          47,
          43,
          54,
          47,
          33,
          52,
          39,
          23,
          30,
          55,
          52,
          22,
          22,
          52,
          47,
          52,
          53,
          25,
          44,
          50,
          28,
          48,
          50,
          55,
          53,
          50,
          46,
          28,
          43,
          36,
          50,
          54,
          45,
          29,
          54,
          29,
          19,
          32,
          37,
          35,
          55,
          37,
          58,
          24,
          53,
          44,
          39,
          45,
          41,
          53,
          53,
          53,
          53,
          29,
          29,
          20,
          57,
          44,
          35,
          40,
          46,
          44,
          56,
          32,
          18,
          31,
          27,
          43,
          52,
          26,
          30,
          44,
          56,
          56,
          40,
          36,
          49,
          47,
          51,
          39,
          46,
          41,
          40,
          50,
          56,
          30,
          31,
          39,
          55,
          51,
          37,
          39,
          41,
          50,
          21,
          57,
          55,
          43,
          58,
          56,
          28,
          27,
          49,
          56,
          53,
          42,
          48,
          57,
          36,
          54,
          49,
          52,
          60,
          33,
          19,
          26,
          42,
          51,
          31,
          54,
          52,
          38,
          54,
          54,
          32,
          36,
          56,
          43,
          35,
          44,
          38,
          46,
          45,
          44,
          27,
          31,
          35,
          57,
          49,
          46,
          52,
          38,
          52,
          39,
          42,
          48,
          20,
          59,
          51,
          44,
          36,
          34,
          53,
          50,
          28,
          34,
          18,
          30,
          53,
          28,
          26,
          20,
          59,
          45,
          54,
          38,
          59,
          22,
          25,
          38,
          46,
          24,
          40,
          59,
          56,
          42,
          52,
          26,
          20,
          52,
          39,
          45,
          60,
          55,
          24,
          26,
          43,
          45,
          52,
          45,
          25,
          40,
          53,
          32,
          54,
          40,
          58,
          22,
          58,
          26,
          59,
          38,
          33,
          56,
          39,
          35,
          56,
          59,
          55,
          21,
          57,
          38,
          41,
          53,
          51,
          50,
          34,
          26,
          57,
          50,
          46,
          50,
          20,
          30,
          59,
          43,
          47,
          39,
          19,
          45,
          51,
          42,
          50,
          59,
          25,
          24,
          31,
          25,
          42,
          47,
          42,
          58,
          57,
          43,
          50,
          20,
          56,
          55,
          46,
          37,
          46,
          28,
          24,
          21,
          50,
          59,
          59,
          20,
          37,
          30,
          59,
          36,
          59,
          25,
          41,
          30,
          58,
          57,
          30,
          56,
          50,
          35,
          43,
          37,
          53,
          26,
          58,
          50,
          44,
          40,
          51,
          59,
          43,
          56,
          43,
          25,
          42,
          30,
          56,
          28,
          36,
          50,
          53,
          44,
          52,
          20,
          23,
          28,
          49,
          59,
          24,
          42,
          38,
          44,
          38,
          51,
          28,
          53,
          36,
          56,
          57,
          39,
          20,
          46,
          45,
          42,
          20,
          58,
          39,
          53,
          54,
          48,
          43,
          48,
          41,
          52,
          35,
          29,
          59,
          34,
          46,
          37,
          38,
          38,
          52,
          59,
          59,
          34,
          48,
          56,
          38,
          35,
          60,
          29,
          42,
          57,
          38,
          45,
          57,
          60,
          31,
          37,
          35,
          28,
          18,
          42,
          56,
          59,
          38,
          54,
          24,
          54,
          56,
          22,
          42,
          52,
          35,
          42,
          46,
          33,
          39,
          41,
          54,
          49,
          44,
          46,
          49,
          50,
          40,
          47,
          39,
          49,
          48,
          42,
          36,
          30,
          34,
          46,
          38,
          57,
          53,
          39,
          29,
          34,
          35,
          39,
          55,
          58,
          25,
          28,
          40,
          41,
          38,
          40,
          48,
          36,
          30,
          43,
          46,
          50,
          52,
          29,
          48,
          41,
          53,
          59,
          47,
          34,
          32,
          48,
          23,
          58,
          54,
          45,
          55,
          29,
          38,
          45,
          41,
          24,
          42,
          56,
          47,
          40,
          41,
          44,
          45,
          50,
          26,
          35,
          60,
          57,
          29,
          51,
          28,
          54,
          50,
          39,
          25,
          49,
          47,
          43,
          37,
          19,
          32,
          36,
          44,
          52,
          42,
          33,
          39,
          42,
          35,
          37,
          45,
          43,
          60,
          42,
          32,
          34,
          39,
          32,
          50,
          59,
          57,
          56,
          54,
          57,
          27,
          47,
          54,
          53,
          21,
          59,
          21,
          33,
          50,
          49,
          56,
          20,
          33,
          42,
          57,
          57,
          27,
          50,
          44,
          23,
          42,
          48,
          53,
          49,
          46,
          57,
          31,
          58,
          37,
          56,
          47,
          31,
          26,
          51,
          55,
          49,
          21,
          33,
          55,
          41,
          27,
          33,
          43,
          42,
          57,
          49,
          33,
          43,
          49,
          42,
          52,
          42,
          38,
          57,
          39,
          46,
          41,
          26,
          56,
          42,
          57,
          30,
          38,
          35,
          40,
          37,
          27,
          48,
          59,
          47,
          32,
          41,
          26,
          37,
          22,
          34,
          48,
          54,
          35,
          33,
          48,
          43,
          57,
          32,
          20,
          49,
          57,
          29,
          32,
          22,
          56,
          27,
          34,
          47,
          60,
          40,
          43,
          39,
          58,
          46,
          51,
          35,
          37,
          53,
          53,
          28,
          19,
          52,
          30,
          40,
          52,
          40,
          36,
          51,
          40,
          34,
          54,
          45,
          20,
          39,
          27,
          41,
          42,
          42,
          37,
          59,
          59,
          38,
          54,
          54,
          39,
          50,
          50,
          26,
          25,
          54,
          52,
          53,
          32,
          57,
          53,
          47,
          40,
          28,
          59,
          44,
          51,
          34,
          39,
          37,
          42,
          27,
          24,
          44,
          49,
          32,
          24,
          53,
          47,
          37,
          36,
          44,
          45,
          24,
          36,
          50,
          44,
          33,
          38,
          20,
          24,
          39,
          49,
          48,
          55,
          53,
          50,
          38,
          53,
          31,
          23,
          40,
          45,
          31,
          24,
          43,
          25,
          59,
          40,
          57,
          39,
          23,
          50,
          29,
          50,
          49,
          60,
          56,
          39,
          26,
          55,
          38,
          20,
          54,
          28,
          25,
          59,
          33,
          48,
          43,
          41,
          20,
          31,
          54,
          45,
          27,
          40,
          34,
          41,
          38,
          44,
          54,
          50,
          46,
          54,
          60,
          25,
          40,
          43,
          43,
          58,
          54,
          60,
          49,
          47,
          29,
          40,
          48,
          25,
          23,
          38,
          33,
          23,
          49,
          28,
          19,
          39,
          60,
          31,
          40,
          40,
          45,
          42,
          54,
          38,
          43,
          36,
          49,
          51,
          58,
          48,
          30,
          40,
          29,
          42,
          54,
          51,
          19,
          25,
          55,
          56,
          47,
          58,
          31,
          50,
          47,
          56,
          56,
          52,
          37,
          28,
          44,
          35,
          56,
          52,
          35,
          51,
          36,
          37,
          58,
          46,
          23,
          53,
          54,
          28,
          49,
          31,
          37,
          48,
          30,
          26,
          58,
          53,
          21,
          33,
          49,
          57,
          33,
          19,
          34,
          53,
          53,
          56,
          37,
          39,
          20,
          28,
          54,
          36,
          24,
          57,
          28,
          38,
          56,
          29,
          35,
          41,
          42,
          28,
          40,
          55,
          41,
          56,
          21,
          45,
          34,
          34,
          34,
          52,
          33,
          47,
          48,
          35,
          39,
          48,
          37,
          38,
          40,
          40,
          55,
          44,
          18,
          33,
          52,
          29,
          33,
          43,
          35,
          50,
          30,
          41,
          50,
          53,
          35,
          34,
          38,
          56,
          34,
          55,
          34,
          29,
          19,
          26,
          56,
          51,
          31,
          36,
          39,
          39,
          42,
          50,
          53,
          19,
          37,
          60,
          40,
          52,
          19,
          50,
          33,
          34,
          48,
          38,
          53,
          59,
          31,
          58,
          39,
          39,
          44,
          35,
          49,
          36,
          45,
          26,
          25,
          30,
          58,
          49,
          33,
          37,
          22,
          49,
          23,
          50,
          31,
          53,
          51,
          43,
          22,
          31,
          30,
          60,
          35,
          43,
          43,
          46,
          38,
          31,
          36,
          36,
          60,
          23,
          27,
          53,
          40,
          60,
          50,
          53,
          41,
          26,
          24,
          46,
          49,
          34,
          18,
          21,
          44,
          45,
          34,
          31,
          22,
          24,
          37,
          46,
          46,
          55,
          48,
          38,
          18,
          26,
          49,
          57,
          29,
          40,
          49,
          40,
          46,
          39,
          19,
          46,
          51,
          18,
          48,
          46,
          24,
          57,
          54,
          56,
          59,
          54,
          47,
          49,
          31,
          35,
          38,
          58,
          20,
          60,
          48,
          56,
          31,
          27,
          34,
          55,
          59,
          52,
          58,
          49,
          38,
          24,
          36,
          57,
          60,
          58,
          56,
          51,
          57,
          23,
          52,
          46,
          48,
          50,
          36,
          53,
          56,
          47,
          38,
          29,
          59,
          45,
          29,
          30,
          40,
          60,
          48,
          51,
          58,
          32,
          54,
          58,
          49,
          30,
          26,
          59,
          38,
          18,
          33,
          24,
          60,
          36,
          52,
          24,
          46,
          49,
          18,
          42,
          43,
          55,
          51,
          42,
          48,
          35,
          59,
          55,
          57,
          24,
          33,
          30,
          45,
          41,
          21,
          36,
          51,
          40,
          20,
          50,
          36,
          31,
          30,
          27,
          40,
          44,
          49,
          49,
          53,
          46,
          42,
          48,
          52,
          28,
          33,
          33,
          44,
          43,
          48,
          29,
          39,
          21,
          35,
          46,
          43,
          44,
          45,
          49,
          60,
          32,
          60,
          54,
          46,
          24,
          46,
          45,
          38,
          51,
          33,
          60,
          33,
          38,
          38,
          39,
          22,
          59,
          39,
          29,
          23,
          31,
          55,
          23,
          21,
          29,
          34,
          52,
          33,
          22,
          51,
          39,
          50,
          51,
          49,
          28,
          41,
          56,
          34,
          38,
          27,
          53,
          59,
          33,
          25,
          52,
          20,
          58,
          41,
          60,
          57,
          35,
          27,
          35,
          51,
          50,
          37,
          33,
          34,
          43,
          47,
          51,
          23,
          53,
          57,
          47,
          55,
          53,
          59,
          50,
          28,
          36,
          59,
          56,
          55,
          39,
          43,
          35,
          40,
          49,
          46,
          53,
          28,
          48,
          46,
          29,
          35,
          50,
          27,
          60,
          40,
          34,
          56,
          36,
          49,
          50,
          48,
          42,
          45,
          28,
          36,
          24,
          54,
          46,
          34,
          30,
          47,
          40,
          44,
          53,
          54,
          57,
          47,
          35,
          26,
          35,
          59,
          57,
          46,
          38,
          49,
          42,
          24,
          36,
          50,
          48,
          47,
          42,
          47,
          42,
          35,
          50,
          54,
          50,
          43,
          57,
          58,
          58,
          57,
          38,
          29,
          32,
          46,
          51,
          32,
          35,
          21,
          41,
          60,
          45,
          34,
          48,
          56,
          47,
          55,
          43,
          34,
          60,
          50,
          45,
          34,
          38,
          23,
          59,
          47,
          33,
          22,
          51,
          58,
          38,
          22,
          53,
          48,
          39,
          43,
          41,
          33,
          52,
          43,
          60,
          21,
          42,
          40,
          29,
          25,
          37,
          29,
          35,
          57,
          29,
          44,
          41,
          56,
          36,
          30,
          27,
          50,
          48,
          29,
          36,
          29,
          41,
          40,
          56,
          25,
          41,
          25,
          58,
          40,
          59,
          23,
          38,
          28,
          37,
          44,
          50,
          26,
          42,
          49,
          39,
          49,
          44,
          41,
          45,
          33,
          32,
          29,
          47,
          37,
          44,
          42,
          26,
          41,
          55,
          52,
          23,
          28,
          53,
          41,
          31,
          59,
          59,
          34,
          25,
          46,
          30,
          29,
          33,
          54,
          59,
          56,
          36,
          56,
          48,
          47,
          36,
          29,
          57,
          38,
          51,
          30,
          47,
          37,
          55,
          23,
          19,
          46,
          30,
          52,
          51,
          32,
          28,
          24,
          55,
          38,
          22,
          44,
          56,
          58,
          55,
          45,
          55,
          18,
          27,
          45,
          41,
          18,
          27,
          41,
          58,
          25,
          31,
          35,
          43,
          42,
          33,
          38,
          56,
          43,
          34,
          33,
          30,
          60,
          45,
          22,
          34,
          41,
          38,
          39,
          38,
          48,
          47,
          21,
          26,
          42,
          46,
          56,
          46,
          54,
          27,
          49,
          36,
          59,
          43,
          45,
          41,
          47,
          29,
          57,
          42,
          51,
          23,
          34,
          24,
          44,
          41,
          53,
          27,
          53,
          27,
          26,
          26,
          49,
          42,
          30,
          58,
          25,
          46,
          45,
          22,
          39,
          44,
          60,
          30,
          30,
          52,
          32,
          60,
          47,
          26,
          50,
          33,
          41,
          28,
          58,
          58,
          19,
          27,
          41,
          44,
          45,
          46,
          54,
          42,
          49,
          37,
          21,
          18,
          60,
          44,
          57,
          34,
          40,
          33,
          25,
          47,
          52,
          28,
          23,
          55,
          56,
          20,
          29,
          49,
          48,
          47,
          48,
          54,
          60,
          41,
          33,
          49,
          54,
          21,
          46,
          30,
          55,
          38,
          39,
          28,
          33,
          36,
          42,
          42,
          52,
          33,
          31,
          26,
          36,
          39,
          52,
          28,
          57,
          59,
          59,
          56,
          19,
          56,
          24,
          54,
          57,
          53,
          50,
          28,
          40,
          34,
          35,
          55,
          59,
          24,
          34,
          42,
          41,
          37,
          43,
          41,
          53,
          45,
          53,
          53,
          47,
          54,
          45,
          18,
          39,
          35,
          43,
          28,
          39,
          44,
          27,
          35,
          39,
          41,
          59,
          46,
          52,
          33,
          20,
          60,
          36,
          48,
          34,
          27,
          56,
          40,
          34,
          27,
          22,
          26,
          34,
          54,
          60,
          42,
          31,
          28,
          33,
          60,
          47,
          40,
          57,
          45,
          37,
          29,
          44,
          40,
          51,
          40,
          38,
          28,
          24,
          31,
          38,
          43,
          50,
          18,
          38,
          38,
          34,
          51,
          57,
          59,
          45,
          47,
          34,
          36,
          37,
          48,
          32,
          37,
          44,
          35,
          22,
          41,
          35,
          49,
          50,
          46,
          56,
          46,
          60,
          39,
          25,
          56,
          30,
          38,
          51,
          49,
          56,
          19,
          55,
          30,
          19,
          59,
          46,
          39,
          35,
          58,
          58,
          47,
          57,
          47,
          57,
          46,
          38,
          56,
          47,
          42,
          22,
          48,
          27,
          48,
          56,
          36,
          39,
          56,
          51,
          36,
          35,
          58,
          48,
          29,
          34,
          29,
          47,
          45,
          51,
          23,
          49,
          35,
          31,
          27,
          37,
          37,
          40,
          51,
          29,
          51,
          36,
          55,
          21,
          40,
          20,
          29,
          41,
          57,
          47,
          26,
          60,
          56,
          49,
          27,
          48,
          44,
          35,
          32,
          52,
          59,
          43,
          59,
          49,
          39,
          19,
          38,
          41,
          43,
          52,
          59,
          34,
          50,
          30,
          57,
          59,
          47,
          39,
          21,
          49,
          49,
          60,
          33,
          47,
          31,
          52,
          51,
          57,
          40,
          48,
          25,
          54,
          34,
          54,
          36,
          53,
          58,
          37,
          46,
          51,
          51,
          54,
          49,
          55,
          57,
          53,
          29,
          55,
          58,
          47,
          25,
          34,
          43,
          58,
          34,
          23,
          45,
          51,
          56,
          53,
          47,
          32,
          59,
          22,
          30,
          59,
          32,
          40,
          31,
          22,
          35,
          60,
          58,
          25,
          57,
          54,
          59,
          49,
          55,
          31,
          52,
          29,
          42,
          47,
          46,
          19,
          43,
          45,
          43,
          22,
          44,
          54,
          34,
          51,
          39,
          35,
          40,
          51,
          28,
          48,
          58,
          49,
          20,
          43,
          34,
          27,
          39,
          31,
          50,
          53,
          57,
          23,
          22,
          30,
          47,
          54,
          29,
          50,
          54,
          60,
          44,
          55,
          32,
          25,
          55,
          45,
          33,
          36,
          50,
          37,
          35,
          55,
          56,
          38,
          57,
          55,
          59,
          47,
          42,
          36,
          27,
          50,
          41,
          42,
          48,
          22,
          54,
          19,
          33,
          36,
          60,
          60,
          33,
          25,
          49,
          27,
          41,
          18,
          38,
          33,
          22,
          22,
          32,
          60,
          46,
          32,
          53,
          24,
          28,
          31,
          47,
          58,
          56,
          56,
          44,
          54,
          23,
          38,
          42,
          48,
          46,
          24,
          49,
          32,
          49,
          42,
          57,
          36,
          43,
          44,
          40,
          23,
          38,
          51,
          36,
          55,
          43,
          33,
          39,
          46,
          48,
          41,
          45,
          25,
          24,
          56
         ],
         "xaxis": "x",
         "yaxis": "y"
        },
        {
         "alignmentgroup": "True",
         "bingroup": "x",
         "hovertemplate": "Depressão=Yes<br>Idade=%{x}<br>count=%{y}<extra></extra>",
         "legendgroup": "Yes",
         "marker": {
          "color": "#4893FB",
          "pattern": {
           "shape": ""
          }
         },
         "name": "Yes",
         "nbinsx": 40,
         "offsetgroup": "Yes",
         "orientation": "v",
         "showlegend": true,
         "type": "histogram",
         "x": [
          18,
          25,
          19,
          34,
          20,
          22,
          33,
          31,
          20,
          24,
          23,
          25,
          21,
          28,
          35,
          19,
          23,
          20,
          30,
          29,
          18,
          35,
          30,
          18,
          33,
          19,
          24,
          20,
          21,
          29,
          34,
          18,
          28,
          32,
          21,
          26,
          27,
          21,
          21,
          23,
          31,
          21,
          19,
          30,
          29,
          29,
          24,
          20,
          30,
          18,
          29,
          19,
          32,
          31,
          27,
          23,
          19,
          31,
          27,
          20,
          26,
          28,
          24,
          19,
          19,
          29,
          51,
          22,
          18,
          23,
          24,
          33,
          34,
          29,
          27,
          18,
          20,
          32,
          18,
          24,
          25,
          25,
          33,
          23,
          47,
          18,
          25,
          33,
          27,
          21,
          23,
          22,
          30,
          24,
          29,
          31,
          19,
          23,
          18,
          22,
          18,
          28,
          43,
          31,
          22,
          30,
          31,
          26,
          42,
          28,
          19,
          26,
          29,
          20,
          34,
          33,
          19,
          27,
          22,
          25,
          30,
          20,
          31,
          29,
          34,
          27,
          26,
          36,
          24,
          18,
          23,
          18,
          18,
          19,
          36,
          40,
          37,
          18,
          20,
          20,
          29,
          33,
          24,
          24,
          28,
          27,
          28,
          24,
          23,
          21,
          27,
          28,
          18,
          24,
          20,
          27,
          24,
          33,
          25,
          27,
          21,
          37,
          41,
          18,
          22,
          47,
          18,
          19,
          24,
          25,
          25,
          40,
          18,
          33,
          22,
          29,
          18,
          25,
          19,
          21,
          33,
          19,
          24,
          34,
          29,
          39,
          19,
          22,
          25,
          29,
          32,
          40,
          20,
          18,
          23,
          29,
          20,
          32,
          33,
          28,
          20,
          22,
          49,
          25,
          26,
          33,
          18,
          27,
          45,
          23,
          27,
          18,
          32,
          21,
          40,
          20,
          24,
          28,
          26,
          28,
          20,
          40,
          23,
          25,
          22,
          22,
          22,
          31,
          27,
          20,
          23,
          46,
          18,
          27,
          20,
          19,
          24,
          28,
          36,
          26,
          32,
          41,
          21,
          31,
          18,
          41,
          28,
          33,
          20,
          32,
          30,
          22,
          33,
          38,
          23,
          33,
          18,
          20,
          29,
          28,
          24,
          22,
          28,
          21,
          20,
          28,
          30,
          18,
          43,
          27,
          19,
          33,
          31,
          26,
          39,
          32,
          23,
          19,
          20,
          26,
          45,
          31,
          19,
          25,
          19,
          21,
          24,
          26,
          21,
          25,
          33,
          26,
          23,
          21,
          18,
          21,
          25,
          31,
          37,
          20,
          21,
          27,
          18,
          23,
          24,
          19,
          30,
          23,
          20,
          18,
          28,
          26,
          24,
          22,
          27,
          18,
          18,
          24,
          47,
          19,
          25,
          34,
          22,
          50,
          19,
          18,
          25,
          29,
          29,
          21,
          31,
          47,
          38,
          25,
          18,
          18,
          21,
          28,
          34,
          19,
          46,
          24,
          20,
          27,
          19,
          25,
          20,
          48,
          20,
          20,
          22,
          34,
          32,
          21,
          21,
          25,
          22,
          23,
          29,
          42,
          30,
          18,
          33,
          43,
          31,
          20,
          35,
          30,
          31,
          28,
          20,
          23,
          28,
          29,
          23,
          21,
          18,
          29,
          24,
          29,
          21,
          19,
          26,
          27,
          22,
          22,
          26,
          27,
          24,
          32,
          24,
          25,
          31,
          29,
          27,
          18,
          25,
          21,
          20,
          21,
          28,
          20,
          30,
          21,
          18,
          42,
          28,
          32,
          38,
          25,
          20,
          28,
          24,
          32,
          21,
          28,
          23,
          20,
          26,
          36,
          20,
          31,
          37,
          32,
          24,
          28,
          21,
          28,
          49,
          32,
          28,
          35,
          28,
          20,
          24,
          18,
          18,
          29,
          29,
          18,
          25,
          30,
          21,
          28,
          20,
          24,
          21,
          34,
          38,
          29,
          26,
          18,
          24,
          23,
          18
         ],
         "xaxis": "x",
         "yaxis": "y"
        }
       ],
       "layout": {
        "annotations": [
         {
          "showarrow": false,
          "text": "Maior índice de depressão",
          "x": 18,
          "xanchor": "right",
          "xref": "x",
          "y": 1,
          "yanchor": "top",
          "yref": "y domain"
         },
         {
          "showarrow": false,
          "text": "Menor índice de depressão",
          "x": 56,
          "xanchor": "left",
          "xref": "x",
          "y": 1,
          "yanchor": "top",
          "yref": "y domain"
         }
        ],
        "autosize": true,
        "barmode": "relative",
        "legend": {
         "title": {
          "text": "Depressão"
         },
         "tracegroupgap": 0
        },
        "shapes": [
         {
          "line": {
           "color": "black"
          },
          "type": "line",
          "x0": 18,
          "x1": 18,
          "xref": "x",
          "y0": 0,
          "y1": 1,
          "yref": "y domain"
         },
         {
          "line": {
           "color": "gray"
          },
          "type": "line",
          "x0": 56,
          "x1": 56,
          "xref": "x",
          "y0": 0,
          "y1": 1,
          "yref": "y domain"
         }
        ],
        "template": {
         "data": {
          "bar": [
           {
            "error_x": {
             "color": "#2a3f5f"
            },
            "error_y": {
             "color": "#2a3f5f"
            },
            "marker": {
             "line": {
              "color": "#E5ECF6",
              "width": 0.5
             },
             "pattern": {
              "fillmode": "overlay",
              "size": 10,
              "solidity": 0.2
             }
            },
            "type": "bar"
           }
          ],
          "barpolar": [
           {
            "marker": {
             "line": {
              "color": "#E5ECF6",
              "width": 0.5
             },
             "pattern": {
              "fillmode": "overlay",
              "size": 10,
              "solidity": 0.2
             }
            },
            "type": "barpolar"
           }
          ],
          "carpet": [
           {
            "aaxis": {
             "endlinecolor": "#2a3f5f",
             "gridcolor": "white",
             "linecolor": "white",
             "minorgridcolor": "white",
             "startlinecolor": "#2a3f5f"
            },
            "baxis": {
             "endlinecolor": "#2a3f5f",
             "gridcolor": "white",
             "linecolor": "white",
             "minorgridcolor": "white",
             "startlinecolor": "#2a3f5f"
            },
            "type": "carpet"
           }
          ],
          "choropleth": [
           {
            "colorbar": {
             "outlinewidth": 0,
             "ticks": ""
            },
            "type": "choropleth"
           }
          ],
          "contour": [
           {
            "colorbar": {
             "outlinewidth": 0,
             "ticks": ""
            },
            "colorscale": [
             [
              0,
              "#0d0887"
             ],
             [
              0.1111111111111111,
              "#46039f"
             ],
             [
              0.2222222222222222,
              "#7201a8"
             ],
             [
              0.3333333333333333,
              "#9c179e"
             ],
             [
              0.4444444444444444,
              "#bd3786"
             ],
             [
              0.5555555555555556,
              "#d8576b"
             ],
             [
              0.6666666666666666,
              "#ed7953"
             ],
             [
              0.7777777777777778,
              "#fb9f3a"
             ],
             [
              0.8888888888888888,
              "#fdca26"
             ],
             [
              1,
              "#f0f921"
             ]
            ],
            "type": "contour"
           }
          ],
          "contourcarpet": [
           {
            "colorbar": {
             "outlinewidth": 0,
             "ticks": ""
            },
            "type": "contourcarpet"
           }
          ],
          "heatmap": [
           {
            "colorbar": {
             "outlinewidth": 0,
             "ticks": ""
            },
            "colorscale": [
             [
              0,
              "#0d0887"
             ],
             [
              0.1111111111111111,
              "#46039f"
             ],
             [
              0.2222222222222222,
              "#7201a8"
             ],
             [
              0.3333333333333333,
              "#9c179e"
             ],
             [
              0.4444444444444444,
              "#bd3786"
             ],
             [
              0.5555555555555556,
              "#d8576b"
             ],
             [
              0.6666666666666666,
              "#ed7953"
             ],
             [
              0.7777777777777778,
              "#fb9f3a"
             ],
             [
              0.8888888888888888,
              "#fdca26"
             ],
             [
              1,
              "#f0f921"
             ]
            ],
            "type": "heatmap"
           }
          ],
          "heatmapgl": [
           {
            "colorbar": {
             "outlinewidth": 0,
             "ticks": ""
            },
            "colorscale": [
             [
              0,
              "#0d0887"
             ],
             [
              0.1111111111111111,
              "#46039f"
             ],
             [
              0.2222222222222222,
              "#7201a8"
             ],
             [
              0.3333333333333333,
              "#9c179e"
             ],
             [
              0.4444444444444444,
              "#bd3786"
             ],
             [
              0.5555555555555556,
              "#d8576b"
             ],
             [
              0.6666666666666666,
              "#ed7953"
             ],
             [
              0.7777777777777778,
              "#fb9f3a"
             ],
             [
              0.8888888888888888,
              "#fdca26"
             ],
             [
              1,
              "#f0f921"
             ]
            ],
            "type": "heatmapgl"
           }
          ],
          "histogram": [
           {
            "marker": {
             "pattern": {
              "fillmode": "overlay",
              "size": 10,
              "solidity": 0.2
             }
            },
            "type": "histogram"
           }
          ],
          "histogram2d": [
           {
            "colorbar": {
             "outlinewidth": 0,
             "ticks": ""
            },
            "colorscale": [
             [
              0,
              "#0d0887"
             ],
             [
              0.1111111111111111,
              "#46039f"
             ],
             [
              0.2222222222222222,
              "#7201a8"
             ],
             [
              0.3333333333333333,
              "#9c179e"
             ],
             [
              0.4444444444444444,
              "#bd3786"
             ],
             [
              0.5555555555555556,
              "#d8576b"
             ],
             [
              0.6666666666666666,
              "#ed7953"
             ],
             [
              0.7777777777777778,
              "#fb9f3a"
             ],
             [
              0.8888888888888888,
              "#fdca26"
             ],
             [
              1,
              "#f0f921"
             ]
            ],
            "type": "histogram2d"
           }
          ],
          "histogram2dcontour": [
           {
            "colorbar": {
             "outlinewidth": 0,
             "ticks": ""
            },
            "colorscale": [
             [
              0,
              "#0d0887"
             ],
             [
              0.1111111111111111,
              "#46039f"
             ],
             [
              0.2222222222222222,
              "#7201a8"
             ],
             [
              0.3333333333333333,
              "#9c179e"
             ],
             [
              0.4444444444444444,
              "#bd3786"
             ],
             [
              0.5555555555555556,
              "#d8576b"
             ],
             [
              0.6666666666666666,
              "#ed7953"
             ],
             [
              0.7777777777777778,
              "#fb9f3a"
             ],
             [
              0.8888888888888888,
              "#fdca26"
             ],
             [
              1,
              "#f0f921"
             ]
            ],
            "type": "histogram2dcontour"
           }
          ],
          "mesh3d": [
           {
            "colorbar": {
             "outlinewidth": 0,
             "ticks": ""
            },
            "type": "mesh3d"
           }
          ],
          "parcoords": [
           {
            "line": {
             "colorbar": {
              "outlinewidth": 0,
              "ticks": ""
             }
            },
            "type": "parcoords"
           }
          ],
          "pie": [
           {
            "automargin": true,
            "type": "pie"
           }
          ],
          "scatter": [
           {
            "fillpattern": {
             "fillmode": "overlay",
             "size": 10,
             "solidity": 0.2
            },
            "type": "scatter"
           }
          ],
          "scatter3d": [
           {
            "line": {
             "colorbar": {
              "outlinewidth": 0,
              "ticks": ""
             }
            },
            "marker": {
             "colorbar": {
              "outlinewidth": 0,
              "ticks": ""
             }
            },
            "type": "scatter3d"
           }
          ],
          "scattercarpet": [
           {
            "marker": {
             "colorbar": {
              "outlinewidth": 0,
              "ticks": ""
             }
            },
            "type": "scattercarpet"
           }
          ],
          "scattergeo": [
           {
            "marker": {
             "colorbar": {
              "outlinewidth": 0,
              "ticks": ""
             }
            },
            "type": "scattergeo"
           }
          ],
          "scattergl": [
           {
            "marker": {
             "colorbar": {
              "outlinewidth": 0,
              "ticks": ""
             }
            },
            "type": "scattergl"
           }
          ],
          "scattermapbox": [
           {
            "marker": {
             "colorbar": {
              "outlinewidth": 0,
              "ticks": ""
             }
            },
            "type": "scattermapbox"
           }
          ],
          "scatterpolar": [
           {
            "marker": {
             "colorbar": {
              "outlinewidth": 0,
              "ticks": ""
             }
            },
            "type": "scatterpolar"
           }
          ],
          "scatterpolargl": [
           {
            "marker": {
             "colorbar": {
              "outlinewidth": 0,
              "ticks": ""
             }
            },
            "type": "scatterpolargl"
           }
          ],
          "scatterternary": [
           {
            "marker": {
             "colorbar": {
              "outlinewidth": 0,
              "ticks": ""
             }
            },
            "type": "scatterternary"
           }
          ],
          "surface": [
           {
            "colorbar": {
             "outlinewidth": 0,
             "ticks": ""
            },
            "colorscale": [
             [
              0,
              "#0d0887"
             ],
             [
              0.1111111111111111,
              "#46039f"
             ],
             [
              0.2222222222222222,
              "#7201a8"
             ],
             [
              0.3333333333333333,
              "#9c179e"
             ],
             [
              0.4444444444444444,
              "#bd3786"
             ],
             [
              0.5555555555555556,
              "#d8576b"
             ],
             [
              0.6666666666666666,
              "#ed7953"
             ],
             [
              0.7777777777777778,
              "#fb9f3a"
             ],
             [
              0.8888888888888888,
              "#fdca26"
             ],
             [
              1,
              "#f0f921"
             ]
            ],
            "type": "surface"
           }
          ],
          "table": [
           {
            "cells": {
             "fill": {
              "color": "#EBF0F8"
             },
             "line": {
              "color": "white"
             }
            },
            "header": {
             "fill": {
              "color": "#C8D4E3"
             },
             "line": {
              "color": "white"
             }
            },
            "type": "table"
           }
          ]
         },
         "layout": {
          "annotationdefaults": {
           "arrowcolor": "#2a3f5f",
           "arrowhead": 0,
           "arrowwidth": 1
          },
          "autotypenumbers": "strict",
          "coloraxis": {
           "colorbar": {
            "outlinewidth": 0,
            "ticks": ""
           }
          },
          "colorscale": {
           "diverging": [
            [
             0,
             "#8e0152"
            ],
            [
             0.1,
             "#c51b7d"
            ],
            [
             0.2,
             "#de77ae"
            ],
            [
             0.3,
             "#f1b6da"
            ],
            [
             0.4,
             "#fde0ef"
            ],
            [
             0.5,
             "#f7f7f7"
            ],
            [
             0.6,
             "#e6f5d0"
            ],
            [
             0.7,
             "#b8e186"
            ],
            [
             0.8,
             "#7fbc41"
            ],
            [
             0.9,
             "#4d9221"
            ],
            [
             1,
             "#276419"
            ]
           ],
           "sequential": [
            [
             0,
             "#0d0887"
            ],
            [
             0.1111111111111111,
             "#46039f"
            ],
            [
             0.2222222222222222,
             "#7201a8"
            ],
            [
             0.3333333333333333,
             "#9c179e"
            ],
            [
             0.4444444444444444,
             "#bd3786"
            ],
            [
             0.5555555555555556,
             "#d8576b"
            ],
            [
             0.6666666666666666,
             "#ed7953"
            ],
            [
             0.7777777777777778,
             "#fb9f3a"
            ],
            [
             0.8888888888888888,
             "#fdca26"
            ],
            [
             1,
             "#f0f921"
            ]
           ],
           "sequentialminus": [
            [
             0,
             "#0d0887"
            ],
            [
             0.1111111111111111,
             "#46039f"
            ],
            [
             0.2222222222222222,
             "#7201a8"
            ],
            [
             0.3333333333333333,
             "#9c179e"
            ],
            [
             0.4444444444444444,
             "#bd3786"
            ],
            [
             0.5555555555555556,
             "#d8576b"
            ],
            [
             0.6666666666666666,
             "#ed7953"
            ],
            [
             0.7777777777777778,
             "#fb9f3a"
            ],
            [
             0.8888888888888888,
             "#fdca26"
            ],
            [
             1,
             "#f0f921"
            ]
           ]
          },
          "colorway": [
           "#636efa",
           "#EF553B",
           "#00cc96",
           "#ab63fa",
           "#FFA15A",
           "#19d3f3",
           "#FF6692",
           "#B6E880",
           "#FF97FF",
           "#FECB52"
          ],
          "font": {
           "color": "#2a3f5f"
          },
          "geo": {
           "bgcolor": "white",
           "lakecolor": "white",
           "landcolor": "#E5ECF6",
           "showlakes": true,
           "showland": true,
           "subunitcolor": "white"
          },
          "hoverlabel": {
           "align": "left"
          },
          "hovermode": "closest",
          "mapbox": {
           "style": "light"
          },
          "paper_bgcolor": "white",
          "plot_bgcolor": "#E5ECF6",
          "polar": {
           "angularaxis": {
            "gridcolor": "white",
            "linecolor": "white",
            "ticks": ""
           },
           "bgcolor": "#E5ECF6",
           "radialaxis": {
            "gridcolor": "white",
            "linecolor": "white",
            "ticks": ""
           }
          },
          "scene": {
           "xaxis": {
            "backgroundcolor": "#E5ECF6",
            "gridcolor": "white",
            "gridwidth": 2,
            "linecolor": "white",
            "showbackground": true,
            "ticks": "",
            "zerolinecolor": "white"
           },
           "yaxis": {
            "backgroundcolor": "#E5ECF6",
            "gridcolor": "white",
            "gridwidth": 2,
            "linecolor": "white",
            "showbackground": true,
            "ticks": "",
            "zerolinecolor": "white"
           },
           "zaxis": {
            "backgroundcolor": "#E5ECF6",
            "gridcolor": "white",
            "gridwidth": 2,
            "linecolor": "white",
            "showbackground": true,
            "ticks": "",
            "zerolinecolor": "white"
           }
          },
          "shapedefaults": {
           "line": {
            "color": "#2a3f5f"
           }
          },
          "ternary": {
           "aaxis": {
            "gridcolor": "white",
            "linecolor": "white",
            "ticks": ""
           },
           "baxis": {
            "gridcolor": "white",
            "linecolor": "white",
            "ticks": ""
           },
           "bgcolor": "#E5ECF6",
           "caxis": {
            "gridcolor": "white",
            "linecolor": "white",
            "ticks": ""
           }
          },
          "title": {
           "x": 0.05
          },
          "xaxis": {
           "automargin": true,
           "gridcolor": "white",
           "linecolor": "white",
           "ticks": "",
           "title": {
            "standoff": 15
           },
           "zerolinecolor": "white",
           "zerolinewidth": 2
          },
          "yaxis": {
           "automargin": true,
           "gridcolor": "white",
           "linecolor": "white",
           "ticks": "",
           "title": {
            "standoff": 15
           },
           "zerolinecolor": "white",
           "zerolinewidth": 2
          }
         }
        },
        "title": {
         "text": "Histograma de Depressão por Faixa Etária"
        },
        "xaxis": {
         "anchor": "y",
         "autorange": true,
         "domain": [
          0,
          1
         ],
         "range": [
          7.8540630182421225,
          66.39800995024876
         ],
         "title": {
          "text": "Idade"
         },
         "type": "linear"
        },
        "yaxis": {
         "anchor": "x",
         "autorange": true,
         "domain": [
          0,
          1
         ],
         "range": [
          0,
          151.57894736842104
         ],
         "title": {
          "text": "count"
         }
        }
       }
      },
      "image/png": "[encoded data removed]",
      "text/html": [
       "<div>                            <div id=\"bca6def5-5d14-42e9-9de1-dafb4015098f\" class=\"plotly-graph-div\" style=\"height:525px; width:100%;\"></div>            <script type=\"text/javascript\">                require([\"plotly\"], function(Plotly) {                    window.PLOTLYENV=window.PLOTLYENV || {};                                    if (document.getElementById(\"bca6def5-5d14-42e9-9de1-dafb4015098f\")) {                    Plotly.newPlot(                        \"bca6def5-5d14-42e9-9de1-dafb4015098f\",                        [{\"alignmentgroup\":\"True\",\"bingroup\":\"x\",\"hovertemplate\":\"Depress\\u00e3o=No\\u003cbr\\u003eIdade=%{x}\\u003cbr\\u003ecount=%{y}\\u003cextra\\u003e\\u003c\\u002fextra\\u003e\",\"legendgroup\":\"No\",\"marker\":{\"color\":\"#F9F459\",\"pattern\":{\"shape\":\"\"}},\"name\":\"No\",\"nbinsx\":40,\"offsetgroup\":\"No\",\"orientation\":\"v\",\"showlegend\":true,\"x\":[37,60,42,44,48,60,30,30,56,35,21,57,54,51,51,31,28,60,28,58,51,47,50,46,38,54,51,44,45,58,45,23,38,31,31,56,53,45,49,57,43,56,30,57,33,47,28,54,49,37,36,46,51,42,46,45,50,35,49,43,47,42,46,48,23,48,35,60,33,41,53,27,31,52,51,43,26,22,34,59,50,44,59,58,49,55,45,37,35,55,25,45,24,44,41,40,37,48,58,31,56,33,26,49,41,31,47,30,38,51,49,47,47,45,51,55,56,58,59,57,60,18,20,44,56,21,49,51,41,37,36,35,46,33,35,24,55,28,51,60,37,45,36,51,38,26,51,40,57,38,49,45,48,22,43,39,49,26,55,37,28,35,54,53,25,53,55,29,48,22,35,46,46,47,45,24,29,53,37,31,51,24,49,20,51,53,48,31,43,56,21,51,20,58,24,36,34,40,25,56,25,55,41,24,27,31,44,57,23,32,47,60,25,33,26,47,43,54,47,33,52,39,23,30,55,52,22,22,52,47,52,53,25,44,50,28,48,50,55,53,50,46,28,43,36,50,54,45,29,54,29,19,32,37,35,55,37,58,24,53,44,39,45,41,53,53,53,53,29,29,20,57,44,35,40,46,44,56,32,18,31,27,43,52,26,30,44,56,56,40,36,49,47,51,39,46,41,40,50,56,30,31,39,55,51,37,39,41,50,21,57,55,43,58,56,28,27,49,56,53,42,48,57,36,54,49,52,60,33,19,26,42,51,31,54,52,38,54,54,32,36,56,43,35,44,38,46,45,44,27,31,35,57,49,46,52,38,52,39,42,48,20,59,51,44,36,34,53,50,28,34,18,30,53,28,26,20,59,45,54,38,59,22,25,38,46,24,40,59,56,42,52,26,20,52,39,45,60,55,24,26,43,45,52,45,25,40,53,32,54,40,58,22,58,26,59,38,33,56,39,35,56,59,55,21,57,38,41,53,51,50,34,26,57,50,46,50,20,30,59,43,47,39,19,45,51,42,50,59,25,24,31,25,42,47,42,58,57,43,50,20,56,55,46,37,46,28,24,21,50,59,59,20,37,30,59,36,59,25,41,30,58,57,30,56,50,35,43,37,53,26,58,50,44,40,51,59,43,56,43,25,42,30,56,28,36,50,53,44,52,20,23,28,49,59,24,42,38,44,38,51,28,53,36,56,57,39,20,46,45,42,20,58,39,53,54,48,43,48,41,52,35,29,59,34,46,37,38,38,52,59,59,34,48,56,38,35,60,29,42,57,38,45,57,60,31,37,35,28,18,42,56,59,38,54,24,54,56,22,42,52,35,42,46,33,39,41,54,49,44,46,49,50,40,47,39,49,48,42,36,30,34,46,38,57,53,39,29,34,35,39,55,58,25,28,40,41,38,40,48,36,30,43,46,50,52,29,48,41,53,59,47,34,32,48,23,58,54,45,55,29,38,45,41,24,42,56,47,40,41,44,45,50,26,35,60,57,29,51,28,54,50,39,25,49,47,43,37,19,32,36,44,52,42,33,39,42,35,37,45,43,60,42,32,34,39,32,50,59,57,56,54,57,27,47,54,53,21,59,21,33,50,49,56,20,33,42,57,57,27,50,44,23,42,48,53,49,46,57,31,58,37,56,47,31,26,51,55,49,21,33,55,41,27,33,43,42,57,49,33,43,49,42,52,42,38,57,39,46,41,26,56,42,57,30,38,35,40,37,27,48,59,47,32,41,26,37,22,34,48,54,35,33,48,43,57,32,20,49,57,29,32,22,56,27,34,47,60,40,43,39,58,46,51,35,37,53,53,28,19,52,30,40,52,40,36,51,40,34,54,45,20,39,27,41,42,42,37,59,59,38,54,54,39,50,50,26,25,54,52,53,32,57,53,47,40,28,59,44,51,34,39,37,42,27,24,44,49,32,24,53,47,37,36,44,45,24,36,50,44,33,38,20,24,39,49,48,55,53,50,38,53,31,23,40,45,31,24,43,25,59,40,57,39,23,50,29,50,49,60,56,39,26,55,38,20,54,28,25,59,33,48,43,41,20,31,54,45,27,40,34,41,38,44,54,50,46,54,60,25,40,43,43,58,54,60,49,47,29,40,48,25,23,38,33,23,49,28,19,39,60,31,40,40,45,42,54,38,43,36,49,51,58,48,30,40,29,42,54,51,19,25,55,56,47,58,31,50,47,56,56,52,37,28,44,35,56,52,35,51,36,37,58,46,23,53,54,28,49,31,37,48,30,26,58,53,21,33,49,57,33,19,34,53,53,56,37,39,20,28,54,36,24,57,28,38,56,29,35,41,42,28,40,55,41,56,21,45,34,34,34,52,33,47,48,35,39,48,37,38,40,40,55,44,18,33,52,29,33,43,35,50,30,41,50,53,35,34,38,56,34,55,34,29,19,26,56,51,31,36,39,39,42,50,53,19,37,60,40,52,19,50,33,34,48,38,53,59,31,58,39,39,44,35,49,36,45,26,25,30,58,49,33,37,22,49,23,50,31,53,51,43,22,31,30,60,35,43,43,46,38,31,36,36,60,23,27,53,40,60,50,53,41,26,24,46,49,34,18,21,44,45,34,31,22,24,37,46,46,55,48,38,18,26,49,57,29,40,49,40,46,39,19,46,51,18,48,46,24,57,54,56,59,54,47,49,31,35,38,58,20,60,48,56,31,27,34,55,59,52,58,49,38,24,36,57,60,58,56,51,57,23,52,46,48,50,36,53,56,47,38,29,59,45,29,30,40,60,48,51,58,32,54,58,49,30,26,59,38,18,33,24,60,36,52,24,46,49,18,42,43,55,51,42,48,35,59,55,57,24,33,30,45,41,21,36,51,40,20,50,36,31,30,27,40,44,49,49,53,46,42,48,52,28,33,33,44,43,48,29,39,21,35,46,43,44,45,49,60,32,60,54,46,24,46,45,38,51,33,60,33,38,38,39,22,59,39,29,23,31,55,23,21,29,34,52,33,22,51,39,50,51,49,28,41,56,34,38,27,53,59,33,25,52,20,58,41,60,57,35,27,35,51,50,37,33,34,43,47,51,23,53,57,47,55,53,59,50,28,36,59,56,55,39,43,35,40,49,46,53,28,48,46,29,35,50,27,60,40,34,56,36,49,50,48,42,45,28,36,24,54,46,34,30,47,40,44,53,54,57,47,35,26,35,59,57,46,38,49,42,24,36,50,48,47,42,47,42,35,50,54,50,43,57,58,58,57,38,29,32,46,51,32,35,21,41,60,45,34,48,56,47,55,43,34,60,50,45,34,38,23,59,47,33,22,51,58,38,22,53,48,39,43,41,33,52,43,60,21,42,40,29,25,37,29,35,57,29,44,41,56,36,30,27,50,48,29,36,29,41,40,56,25,41,25,58,40,59,23,38,28,37,44,50,26,42,49,39,49,44,41,45,33,32,29,47,37,44,42,26,41,55,52,23,28,53,41,31,59,59,34,25,46,30,29,33,54,59,56,36,56,48,47,36,29,57,38,51,30,47,37,55,23,19,46,30,52,51,32,28,24,55,38,22,44,56,58,55,45,55,18,27,45,41,18,27,41,58,25,31,35,43,42,33,38,56,43,34,33,30,60,45,22,34,41,38,39,38,48,47,21,26,42,46,56,46,54,27,49,36,59,43,45,41,47,29,57,42,51,23,34,24,44,41,53,27,53,27,26,26,49,42,30,58,25,46,45,22,39,44,60,30,30,52,32,60,47,26,50,33,41,28,58,58,19,27,41,44,45,46,54,42,49,37,21,18,60,44,57,34,40,33,25,47,52,28,23,55,56,20,29,49,48,47,48,54,60,41,33,49,54,21,46,30,55,38,39,28,33,36,42,42,52,33,31,26,36,39,52,28,57,59,59,56,19,56,24,54,57,53,50,28,40,34,35,55,59,24,34,42,41,37,43,41,53,45,53,53,47,54,45,18,39,35,43,28,39,44,27,35,39,41,59,46,52,33,20,60,36,48,34,27,56,40,34,27,22,26,34,54,60,42,31,28,33,60,47,40,57,45,37,29,44,40,51,40,38,28,24,31,38,43,50,18,38,38,34,51,57,59,45,47,34,36,37,48,32,37,44,35,22,41,35,49,50,46,56,46,60,39,25,56,30,38,51,49,56,19,55,30,19,59,46,39,35,58,58,47,57,47,57,46,38,56,47,42,22,48,27,48,56,36,39,56,51,36,35,58,48,29,34,29,47,45,51,23,49,35,31,27,37,37,40,51,29,51,36,55,21,40,20,29,41,57,47,26,60,56,49,27,48,44,35,32,52,59,43,59,49,39,19,38,41,43,52,59,34,50,30,57,59,47,39,21,49,49,60,33,47,31,52,51,57,40,48,25,54,34,54,36,53,58,37,46,51,51,54,49,55,57,53,29,55,58,47,25,34,43,58,34,23,45,51,56,53,47,32,59,22,30,59,32,40,31,22,35,60,58,25,57,54,59,49,55,31,52,29,42,47,46,19,43,45,43,22,44,54,34,51,39,35,40,51,28,48,58,49,20,43,34,27,39,31,50,53,57,23,22,30,47,54,29,50,54,60,44,55,32,25,55,45,33,36,50,37,35,55,56,38,57,55,59,47,42,36,27,50,41,42,48,22,54,19,33,36,60,60,33,25,49,27,41,18,38,33,22,22,32,60,46,32,53,24,28,31,47,58,56,56,44,54,23,38,42,48,46,24,49,32,49,42,57,36,43,44,40,23,38,51,36,55,43,33,39,46,48,41,45,25,24,56],\"xaxis\":\"x\",\"yaxis\":\"y\",\"type\":\"histogram\"},{\"alignmentgroup\":\"True\",\"bingroup\":\"x\",\"hovertemplate\":\"Depress\\u00e3o=Yes\\u003cbr\\u003eIdade=%{x}\\u003cbr\\u003ecount=%{y}\\u003cextra\\u003e\\u003c\\u002fextra\\u003e\",\"legendgroup\":\"Yes\",\"marker\":{\"color\":\"#4893FB\",\"pattern\":{\"shape\":\"\"}},\"name\":\"Yes\",\"nbinsx\":40,\"offsetgroup\":\"Yes\",\"orientation\":\"v\",\"showlegend\":true,\"x\":[18,25,19,34,20,22,33,31,20,24,23,25,21,28,35,19,23,20,30,29,18,35,30,18,33,19,24,20,21,29,34,18,28,32,21,26,27,21,21,23,31,21,19,30,29,29,24,20,30,18,29,19,32,31,27,23,19,31,27,20,26,28,24,19,19,29,51,22,18,23,24,33,34,29,27,18,20,32,18,24,25,25,33,23,47,18,25,33,27,21,23,22,30,24,29,31,19,23,18,22,18,28,43,31,22,30,31,26,42,28,19,26,29,20,34,33,19,27,22,25,30,20,31,29,34,27,26,36,24,18,23,18,18,19,36,40,37,18,20,20,29,33,24,24,28,27,28,24,23,21,27,28,18,24,20,27,24,33,25,27,21,37,41,18,22,47,18,19,24,25,25,40,18,33,22,29,18,25,19,21,33,19,24,34,29,39,19,22,25,29,32,40,20,18,23,29,20,32,33,28,20,22,49,25,26,33,18,27,45,23,27,18,32,21,40,20,24,28,26,28,20,40,23,25,22,22,22,31,27,20,23,46,18,27,20,19,24,28,36,26,32,41,21,31,18,41,28,33,20,32,30,22,33,38,23,33,18,20,29,28,24,22,28,21,20,28,30,18,43,27,19,33,31,26,39,32,23,19,20,26,45,31,19,25,19,21,24,26,21,25,33,26,23,21,18,21,25,31,37,20,21,27,18,23,24,19,30,23,20,18,28,26,24,22,27,18,18,24,47,19,25,34,22,50,19,18,25,29,29,21,31,47,38,25,18,18,21,28,34,19,46,24,20,27,19,25,20,48,20,20,22,34,32,21,21,25,22,23,29,42,30,18,33,43,31,20,35,30,31,28,20,23,28,29,23,21,18,29,24,29,21,19,26,27,22,22,26,27,24,32,24,25,31,29,27,18,25,21,20,21,28,20,30,21,18,42,28,32,38,25,20,28,24,32,21,28,23,20,26,36,20,31,37,32,24,28,21,28,49,32,28,35,28,20,24,18,18,29,29,18,25,30,21,28,20,24,21,34,38,29,26,18,24,23,18],\"xaxis\":\"x\",\"yaxis\":\"y\",\"type\":\"histogram\"}],                        {\"template\":{\"data\":{\"histogram2dcontour\":[{\"type\":\"histogram2dcontour\",\"colorbar\":{\"outlinewidth\":0,\"ticks\":\"\"},\"colorscale\":[[0.0,\"#0d0887\"],[0.1111111111111111,\"#46039f\"],[0.2222222222222222,\"#7201a8\"],[0.3333333333333333,\"#9c179e\"],[0.4444444444444444,\"#bd3786\"],[0.5555555555555556,\"#d8576b\"],[0.6666666666666666,\"#ed7953\"],[0.7777777777777778,\"#fb9f3a\"],[0.8888888888888888,\"#fdca26\"],[1.0,\"#f0f921\"]]}],\"choropleth\":[{\"type\":\"choropleth\",\"colorbar\":{\"outlinewidth\":0,\"ticks\":\"\"}}],\"histogram2d\":[{\"type\":\"histogram2d\",\"colorbar\":{\"outlinewidth\":0,\"ticks\":\"\"},\"colorscale\":[[0.0,\"#0d0887\"],[0.1111111111111111,\"#46039f\"],[0.2222222222222222,\"#7201a8\"],[0.3333333333333333,\"#9c179e\"],[0.4444444444444444,\"#bd3786\"],[0.5555555555555556,\"#d8576b\"],[0.6666666666666666,\"#ed7953\"],[0.7777777777777778,\"#fb9f3a\"],[0.8888888888888888,\"#fdca26\"],[1.0,\"#f0f921\"]]}],\"heatmap\":[{\"type\":\"heatmap\",\"colorbar\":{\"outlinewidth\":0,\"ticks\":\"\"},\"colorscale\":[[0.0,\"#0d0887\"],[0.1111111111111111,\"#46039f\"],[0.2222222222222222,\"#7201a8\"],[0.3333333333333333,\"#9c179e\"],[0.4444444444444444,\"#bd3786\"],[0.5555555555555556,\"#d8576b\"],[0.6666666666666666,\"#ed7953\"],[0.7777777777777778,\"#fb9f3a\"],[0.8888888888888888,\"#fdca26\"],[1.0,\"#f0f921\"]]}],\"heatmapgl\":[{\"type\":\"heatmapgl\",\"colorbar\":{\"outlinewidth\":0,\"ticks\":\"\"},\"colorscale\":[[0.0,\"#0d0887\"],[0.1111111111111111,\"#46039f\"],[0.2222222222222222,\"#7201a8\"],[0.3333333333333333,\"#9c179e\"],[0.4444444444444444,\"#bd3786\"],[0.5555555555555556,\"#d8576b\"],[0.6666666666666666,\"#ed7953\"],[0.7777777777777778,\"#fb9f3a\"],[0.8888888888888888,\"#fdca26\"],[1.0,\"#f0f921\"]]}],\"contourcarpet\":[{\"type\":\"contourcarpet\",\"colorbar\":{\"outlinewidth\":0,\"ticks\":\"\"}}],\"contour\":[{\"type\":\"contour\",\"colorbar\":{\"outlinewidth\":0,\"ticks\":\"\"},\"colorscale\":[[0.0,\"#0d0887\"],[0.1111111111111111,\"#46039f\"],[0.2222222222222222,\"#7201a8\"],[0.3333333333333333,\"#9c179e\"],[0.4444444444444444,\"#bd3786\"],[0.5555555555555556,\"#d8576b\"],[0.6666666666666666,\"#ed7953\"],[0.7777777777777778,\"#fb9f3a\"],[0.8888888888888888,\"#fdca26\"],[1.0,\"#f0f921\"]]}],\"surface\":[{\"type\":\"surface\",\"colorbar\":{\"outlinewidth\":0,\"ticks\":\"\"},\"colorscale\":[[0.0,\"#0d0887\"],[0.1111111111111111,\"#46039f\"],[0.2222222222222222,\"#7201a8\"],[0.3333333333333333,\"#9c179e\"],[0.4444444444444444,\"#bd3786\"],[0.5555555555555556,\"#d8576b\"],[0.6666666666666666,\"#ed7953\"],[0.7777777777777778,\"#fb9f3a\"],[0.8888888888888888,\"#fdca26\"],[1.0,\"#f0f921\"]]}],\"mesh3d\":[{\"type\":\"mesh3d\",\"colorbar\":{\"outlinewidth\":0,\"ticks\":\"\"}}],\"scatter\":[{\"fillpattern\":{\"fillmode\":\"overlay\",\"size\":10,\"solidity\":0.2},\"type\":\"scatter\"}],\"parcoords\":[{\"type\":\"parcoords\",\"line\":{\"colorbar\":{\"outlinewidth\":0,\"ticks\":\"\"}}}],\"scatterpolargl\":[{\"type\":\"scatterpolargl\",\"marker\":{\"colorbar\":{\"outlinewidth\":0,\"ticks\":\"\"}}}],\"bar\":[{\"error_x\":{\"color\":\"#2a3f5f\"},\"error_y\":{\"color\":\"#2a3f5f\"},\"marker\":{\"line\":{\"color\":\"#E5ECF6\",\"width\":0.5},\"pattern\":{\"fillmode\":\"overlay\",\"size\":10,\"solidity\":0.2}},\"type\":\"bar\"}],\"scattergeo\":[{\"type\":\"scattergeo\",\"marker\":{\"colorbar\":{\"outlinewidth\":0,\"ticks\":\"\"}}}],\"scatterpolar\":[{\"type\":\"scatterpolar\",\"marker\":{\"colorbar\":{\"outlinewidth\":0,\"ticks\":\"\"}}}],\"histogram\":[{\"marker\":{\"pattern\":{\"fillmode\":\"overlay\",\"size\":10,\"solidity\":0.2}},\"type\":\"histogram\"}],\"scattergl\":[{\"type\":\"scattergl\",\"marker\":{\"colorbar\":{\"outlinewidth\":0,\"ticks\":\"\"}}}],\"scatter3d\":[{\"type\":\"scatter3d\",\"line\":{\"colorbar\":{\"outlinewidth\":0,\"ticks\":\"\"}},\"marker\":{\"colorbar\":{\"outlinewidth\":0,\"ticks\":\"\"}}}],\"scattermapbox\":[{\"type\":\"scattermapbox\",\"marker\":{\"colorbar\":{\"outlinewidth\":0,\"ticks\":\"\"}}}],\"scatterternary\":[{\"type\":\"scatterternary\",\"marker\":{\"colorbar\":{\"outlinewidth\":0,\"ticks\":\"\"}}}],\"scattercarpet\":[{\"type\":\"scattercarpet\",\"marker\":{\"colorbar\":{\"outlinewidth\":0,\"ticks\":\"\"}}}],\"carpet\":[{\"aaxis\":{\"endlinecolor\":\"#2a3f5f\",\"gridcolor\":\"white\",\"linecolor\":\"white\",\"minorgridcolor\":\"white\",\"startlinecolor\":\"#2a3f5f\"},\"baxis\":{\"endlinecolor\":\"#2a3f5f\",\"gridcolor\":\"white\",\"linecolor\":\"white\",\"minorgridcolor\":\"white\",\"startlinecolor\":\"#2a3f5f\"},\"type\":\"carpet\"}],\"table\":[{\"cells\":{\"fill\":{\"color\":\"#EBF0F8\"},\"line\":{\"color\":\"white\"}},\"header\":{\"fill\":{\"color\":\"#C8D4E3\"},\"line\":{\"color\":\"white\"}},\"type\":\"table\"}],\"barpolar\":[{\"marker\":{\"line\":{\"color\":\"#E5ECF6\",\"width\":0.5},\"pattern\":{\"fillmode\":\"overlay\",\"size\":10,\"solidity\":0.2}},\"type\":\"barpolar\"}],\"pie\":[{\"automargin\":true,\"type\":\"pie\"}]},\"layout\":{\"autotypenumbers\":\"strict\",\"colorway\":[\"#636efa\",\"#EF553B\",\"#00cc96\",\"#ab63fa\",\"#FFA15A\",\"#19d3f3\",\"#FF6692\",\"#B6E880\",\"#FF97FF\",\"#FECB52\"],\"font\":{\"color\":\"#2a3f5f\"},\"hovermode\":\"closest\",\"hoverlabel\":{\"align\":\"left\"},\"paper_bgcolor\":\"white\",\"plot_bgcolor\":\"#E5ECF6\",\"polar\":{\"bgcolor\":\"#E5ECF6\",\"angularaxis\":{\"gridcolor\":\"white\",\"linecolor\":\"white\",\"ticks\":\"\"},\"radialaxis\":{\"gridcolor\":\"white\",\"linecolor\":\"white\",\"ticks\":\"\"}},\"ternary\":{\"bgcolor\":\"#E5ECF6\",\"aaxis\":{\"gridcolor\":\"white\",\"linecolor\":\"white\",\"ticks\":\"\"},\"baxis\":{\"gridcolor\":\"white\",\"linecolor\":\"white\",\"ticks\":\"\"},\"caxis\":{\"gridcolor\":\"white\",\"linecolor\":\"white\",\"ticks\":\"\"}},\"coloraxis\":{\"colorbar\":{\"outlinewidth\":0,\"ticks\":\"\"}},\"colorscale\":{\"sequential\":[[0.0,\"#0d0887\"],[0.1111111111111111,\"#46039f\"],[0.2222222222222222,\"#7201a8\"],[0.3333333333333333,\"#9c179e\"],[0.4444444444444444,\"#bd3786\"],[0.5555555555555556,\"#d8576b\"],[0.6666666666666666,\"#ed7953\"],[0.7777777777777778,\"#fb9f3a\"],[0.8888888888888888,\"#fdca26\"],[1.0,\"#f0f921\"]],\"sequentialminus\":[[0.0,\"#0d0887\"],[0.1111111111111111,\"#46039f\"],[0.2222222222222222,\"#7201a8\"],[0.3333333333333333,\"#9c179e\"],[0.4444444444444444,\"#bd3786\"],[0.5555555555555556,\"#d8576b\"],[0.6666666666666666,\"#ed7953\"],[0.7777777777777778,\"#fb9f3a\"],[0.8888888888888888,\"#fdca26\"],[1.0,\"#f0f921\"]],\"diverging\":[[0,\"#8e0152\"],[0.1,\"#c51b7d\"],[0.2,\"#de77ae\"],[0.3,\"#f1b6da\"],[0.4,\"#fde0ef\"],[0.5,\"#f7f7f7\"],[0.6,\"#e6f5d0\"],[0.7,\"#b8e186\"],[0.8,\"#7fbc41\"],[0.9,\"#4d9221\"],[1,\"#276419\"]]},\"xaxis\":{\"gridcolor\":\"white\",\"linecolor\":\"white\",\"ticks\":\"\",\"title\":{\"standoff\":15},\"zerolinecolor\":\"white\",\"automargin\":true,\"zerolinewidth\":2},\"yaxis\":{\"gridcolor\":\"white\",\"linecolor\":\"white\",\"ticks\":\"\",\"title\":{\"standoff\":15},\"zerolinecolor\":\"white\",\"automargin\":true,\"zerolinewidth\":2},\"scene\":{\"xaxis\":{\"backgroundcolor\":\"#E5ECF6\",\"gridcolor\":\"white\",\"linecolor\":\"white\",\"showbackground\":true,\"ticks\":\"\",\"zerolinecolor\":\"white\",\"gridwidth\":2},\"yaxis\":{\"backgroundcolor\":\"#E5ECF6\",\"gridcolor\":\"white\",\"linecolor\":\"white\",\"showbackground\":true,\"ticks\":\"\",\"zerolinecolor\":\"white\",\"gridwidth\":2},\"zaxis\":{\"backgroundcolor\":\"#E5ECF6\",\"gridcolor\":\"white\",\"linecolor\":\"white\",\"showbackground\":true,\"ticks\":\"\",\"zerolinecolor\":\"white\",\"gridwidth\":2}},\"shapedefaults\":{\"line\":{\"color\":\"#2a3f5f\"}},\"annotationdefaults\":{\"arrowcolor\":\"#2a3f5f\",\"arrowhead\":0,\"arrowwidth\":1},\"geo\":{\"bgcolor\":\"white\",\"landcolor\":\"#E5ECF6\",\"subunitcolor\":\"white\",\"showland\":true,\"showlakes\":true,\"lakecolor\":\"white\"},\"title\":{\"x\":0.05},\"mapbox\":{\"style\":\"light\"}}},\"xaxis\":{\"anchor\":\"y\",\"domain\":[0.0,1.0],\"title\":{\"text\":\"Idade\"}},\"yaxis\":{\"anchor\":\"x\",\"domain\":[0.0,1.0],\"title\":{\"text\":\"count\"}},\"legend\":{\"title\":{\"text\":\"Depress\\u00e3o\"},\"tracegroupgap\":0},\"title\":{\"text\":\"Histograma de Depress\\u00e3o por Faixa Et\\u00e1ria\"},\"barmode\":\"relative\",\"shapes\":[{\"line\":{\"color\":\"black\"},\"type\":\"line\",\"x0\":18,\"x1\":18,\"xref\":\"x\",\"y0\":0,\"y1\":1,\"yref\":\"y domain\"},{\"line\":{\"color\":\"gray\"},\"type\":\"line\",\"x0\":56,\"x1\":56,\"xref\":\"x\",\"y0\":0,\"y1\":1,\"yref\":\"y domain\"}],\"annotations\":[{\"showarrow\":false,\"text\":\"Maior \\u00edndice de depress\\u00e3o\",\"x\":18,\"xanchor\":\"right\",\"xref\":\"x\",\"y\":1,\"yanchor\":\"top\",\"yref\":\"y domain\"},{\"showarrow\":false,\"text\":\"Menor \\u00edndice de depress\\u00e3o\",\"x\":56,\"xanchor\":\"left\",\"xref\":\"x\",\"y\":1,\"yanchor\":\"top\",\"yref\":\"y domain\"}]},                        {\"responsive\": true}                    ).then(function(){\n",
       "                            \n",
       "var gd = document.getElementById('bca6def5-5d14-42e9-9de1-dafb4015098f');\n",
       "var x = new MutationObserver(function (mutations, observer) {{\n",
       "        var display = window.getComputedStyle(gd).display;\n",
       "        if (!display || display === 'none') {{\n",
       "            console.log([gd, 'removed!']);\n",
       "            Plotly.purge(gd);\n",
       "            observer.disconnect();\n",
       "        }}\n",
       "}});\n",
       "\n",
       "// Listen for the removal of the full notebook cells\n",
       "var notebookContainer = gd.closest('#notebook-container');\n",
       "if (notebookContainer) {{\n",
       "    x.observe(notebookContainer, {childList: true});\n",
       "}}\n",
       "\n",
       "// Listen for the clearing of the current output cell\n",
       "var outputEl = gd.closest('.output');\n",
       "if (outputEl) {{\n",
       "    x.observe(outputEl, {childList: true});\n",
       "}}\n",
       "\n",
       "                        })                };                });            </script>        </div>"
      ]
     },
     "metadata": {},
     "output_type": "display_data"
    }
   ],
   "source": [
    "# Mapeamento de cores personalizado\n",
    "mapa_cores = {\"Yes\": \"#4893FB\", \"No\": \"#F9F459\"}\n",
    "\n",
    "# Encontrando as idades com maior frequência para cada grupo\n",
    "idade_mais_frequente_sim = df[df['depression'] == \"Yes\"]['age'].value_counts().idxmax()\n",
    "idade_mais_frequente_nao = df[df['depression'] == \"No\"]['age'].value_counts().idxmax()\n",
    "\n",
    "# Criando o histograma\n",
    "grafico = px.histogram(\n",
    "    df,\n",
    "    x=\"age\",\n",
    "    color=\"depression\",\n",
    "    color_discrete_map = mapa_cores, \n",
    "    nbins=40,\n",
    "    title=\"Histograma de Depressão por Faixa Etária\",\n",
    "    labels={\"age\": \"Idade\", \"depression\": \"Depressão\"},\n",
    ")\n",
    "\n",
    "# Linhas verticais nos pontos chave\n",
    "grafico.add_vline(\n",
    "    x=idade_mais_frequente_sim, \n",
    "    line_color=\"black\", \n",
    "    annotation_text=\"Maior índice de depressão\", \n",
    "    annotation_position=\"top left\"\n",
    ")\n",
    "grafico.add_vline(\n",
    "    x=idade_mais_frequente_nao, \n",
    "    line_color=\"gray\", \n",
    "    annotation_text=\"Menor índice de depressão\", \n",
    "    annotation_position=\"top right\"\n",
    ")\n"
   ]
  },
  {
   "cell_type": "raw",
   "id": "980311b0-882d-4a3f-89d4-6af1d33ac0f1",
   "metadata": {},
   "source": [
    "Neste gráfico podemos ver o maior e menor índice de depressão por faixa etária. Vimos que o maior índice de depressão é na faixa dos 18 aos 19 anos, enquanto o menor é na faixa dos 52 aos 60 anos."
   ]
  },
  {
   "cell_type": "code",
   "execution_count": 6,
   "id": "42065281-8c66-4385-905e-c384a2431a39",
   "metadata": {},
   "outputs": [
    {
     "data": {
      "application/vnd.plotly.v1+json": {
       "config": {
        "plotlyServerURL": "https://plot.ly"
       },
       "data": [
        {
         "alignmentgroup": "True",
         "hovertemplate": "Depressão=No<br>Área de Atuação=%{x}<br>Número de Casos=%{y}<extra></extra>",
         "legendgroup": "No",
         "marker": {
          "color": "#F9F459",
          "pattern": {
           "shape": ""
          }
         },
         "name": "No",
         "offsetgroup": "No",
         "orientation": "v",
         "showlegend": true,
         "textposition": "auto",
         "type": "bar",
         "x": [
          "Business",
          "Construction",
          "Consulting",
          "Customer Service",
          "Digital",
          "Education",
          "Engineer",
          "Finance",
          "Gastronomy",
          "General services",
          "Health",
          "Human Resources",
          "Law",
          "Scientist",
          "Technology",
          "Travel",
          "Writing"
         ],
         "xaxis": "x",
         "y": [
          101,
          64,
          132,
          39,
          36,
          334,
          85,
          136,
          54,
          32,
          194,
          72,
          79,
          43,
          143,
          81,
          112
         ],
         "yaxis": "y"
        },
        {
         "alignmentgroup": "True",
         "hovertemplate": "Depressão=Yes<br>Área de Atuação=%{x}<br>Número de Casos=%{y}<extra></extra>",
         "legendgroup": "Yes",
         "marker": {
          "color": "#4893FB",
          "pattern": {
           "shape": ""
          }
         },
         "name": "Yes",
         "offsetgroup": "Yes",
         "orientation": "v",
         "showlegend": true,
         "textposition": "auto",
         "type": "bar",
         "x": [
          "Business",
          "Construction",
          "Consulting",
          "Customer Service",
          "Digital",
          "Education",
          "Engineer",
          "Finance",
          "Gastronomy",
          "General services",
          "Health",
          "Human Resources",
          "Law",
          "Scientist",
          "Technology",
          "Travel",
          "Writing"
         ],
         "xaxis": "x",
         "y": [
          4,
          9,
          11,
          2,
          3,
          32,
          9,
          13,
          5,
          3,
          6,
          12,
          11,
          2,
          16,
          4,
          4
         ],
         "yaxis": "y"
        }
       ],
       "layout": {
        "annotations": [
         {
          "arrowhead": 2,
          "ax": -50,
          "ay": -30,
          "font": {
           "color": "black"
          },
          "showarrow": true,
          "text": "Maior índice de depressão",
          "x": "Human Resources",
          "y": 72
         },
         {
          "arrowhead": 2,
          "ax": -50,
          "ay": -30,
          "font": {
           "color": "gray"
          },
          "showarrow": true,
          "text": "Menor índice de depressão",
          "x": "Health",
          "y": 194
         }
        ],
        "autosize": true,
        "barmode": "group",
        "legend": {
         "title": {
          "text": "Depressão"
         },
         "tracegroupgap": 0
        },
        "template": {
         "data": {
          "bar": [
           {
            "error_x": {
             "color": "#2a3f5f"
            },
            "error_y": {
             "color": "#2a3f5f"
            },
            "marker": {
             "line": {
              "color": "#E5ECF6",
              "width": 0.5
             },
             "pattern": {
              "fillmode": "overlay",
              "size": 10,
              "solidity": 0.2
             }
            },
            "type": "bar"
           }
          ],
          "barpolar": [
           {
            "marker": {
             "line": {
              "color": "#E5ECF6",
              "width": 0.5
             },
             "pattern": {
              "fillmode": "overlay",
              "size": 10,
              "solidity": 0.2
             }
            },
            "type": "barpolar"
           }
          ],
          "carpet": [
           {
            "aaxis": {
             "endlinecolor": "#2a3f5f",
             "gridcolor": "white",
             "linecolor": "white",
             "minorgridcolor": "white",
             "startlinecolor": "#2a3f5f"
            },
            "baxis": {
             "endlinecolor": "#2a3f5f",
             "gridcolor": "white",
             "linecolor": "white",
             "minorgridcolor": "white",
             "startlinecolor": "#2a3f5f"
            },
            "type": "carpet"
           }
          ],
          "choropleth": [
           {
            "colorbar": {
             "outlinewidth": 0,
             "ticks": ""
            },
            "type": "choropleth"
           }
          ],
          "contour": [
           {
            "colorbar": {
             "outlinewidth": 0,
             "ticks": ""
            },
            "colorscale": [
             [
              0,
              "#0d0887"
             ],
             [
              0.1111111111111111,
              "#46039f"
             ],
             [
              0.2222222222222222,
              "#7201a8"
             ],
             [
              0.3333333333333333,
              "#9c179e"
             ],
             [
              0.4444444444444444,
              "#bd3786"
             ],
             [
              0.5555555555555556,
              "#d8576b"
             ],
             [
              0.6666666666666666,
              "#ed7953"
             ],
             [
              0.7777777777777778,
              "#fb9f3a"
             ],
             [
              0.8888888888888888,
              "#fdca26"
             ],
             [
              1,
              "#f0f921"
             ]
            ],
            "type": "contour"
           }
          ],
          "contourcarpet": [
           {
            "colorbar": {
             "outlinewidth": 0,
             "ticks": ""
            },
            "type": "contourcarpet"
           }
          ],
          "heatmap": [
           {
            "colorbar": {
             "outlinewidth": 0,
             "ticks": ""
            },
            "colorscale": [
             [
              0,
              "#0d0887"
             ],
             [
              0.1111111111111111,
              "#46039f"
             ],
             [
              0.2222222222222222,
              "#7201a8"
             ],
             [
              0.3333333333333333,
              "#9c179e"
             ],
             [
              0.4444444444444444,
              "#bd3786"
             ],
             [
              0.5555555555555556,
              "#d8576b"
             ],
             [
              0.6666666666666666,
              "#ed7953"
             ],
             [
              0.7777777777777778,
              "#fb9f3a"
             ],
             [
              0.8888888888888888,
              "#fdca26"
             ],
             [
              1,
              "#f0f921"
             ]
            ],
            "type": "heatmap"
           }
          ],
          "heatmapgl": [
           {
            "colorbar": {
             "outlinewidth": 0,
             "ticks": ""
            },
            "colorscale": [
             [
              0,
              "#0d0887"
             ],
             [
              0.1111111111111111,
              "#46039f"
             ],
             [
              0.2222222222222222,
              "#7201a8"
             ],
             [
              0.3333333333333333,
              "#9c179e"
             ],
             [
              0.4444444444444444,
              "#bd3786"
             ],
             [
              0.5555555555555556,
              "#d8576b"
             ],
             [
              0.6666666666666666,
              "#ed7953"
             ],
             [
              0.7777777777777778,
              "#fb9f3a"
             ],
             [
              0.8888888888888888,
              "#fdca26"
             ],
             [
              1,
              "#f0f921"
             ]
            ],
            "type": "heatmapgl"
           }
          ],
          "histogram": [
           {
            "marker": {
             "pattern": {
              "fillmode": "overlay",
              "size": 10,
              "solidity": 0.2
             }
            },
            "type": "histogram"
           }
          ],
          "histogram2d": [
           {
            "colorbar": {
             "outlinewidth": 0,
             "ticks": ""
            },
            "colorscale": [
             [
              0,
              "#0d0887"
             ],
             [
              0.1111111111111111,
              "#46039f"
             ],
             [
              0.2222222222222222,
              "#7201a8"
             ],
             [
              0.3333333333333333,
              "#9c179e"
             ],
             [
              0.4444444444444444,
              "#bd3786"
             ],
             [
              0.5555555555555556,
              "#d8576b"
             ],
             [
              0.6666666666666666,
              "#ed7953"
             ],
             [
              0.7777777777777778,
              "#fb9f3a"
             ],
             [
              0.8888888888888888,
              "#fdca26"
             ],
             [
              1,
              "#f0f921"
             ]
            ],
            "type": "histogram2d"
           }
          ],
          "histogram2dcontour": [
           {
            "colorbar": {
             "outlinewidth": 0,
             "ticks": ""
            },
            "colorscale": [
             [
              0,
              "#0d0887"
             ],
             [
              0.1111111111111111,
              "#46039f"
             ],
             [
              0.2222222222222222,
              "#7201a8"
             ],
             [
              0.3333333333333333,
              "#9c179e"
             ],
             [
              0.4444444444444444,
              "#bd3786"
             ],
             [
              0.5555555555555556,
              "#d8576b"
             ],
             [
              0.6666666666666666,
              "#ed7953"
             ],
             [
              0.7777777777777778,
              "#fb9f3a"
             ],
             [
              0.8888888888888888,
              "#fdca26"
             ],
             [
              1,
              "#f0f921"
             ]
            ],
            "type": "histogram2dcontour"
           }
          ],
          "mesh3d": [
           {
            "colorbar": {
             "outlinewidth": 0,
             "ticks": ""
            },
            "type": "mesh3d"
           }
          ],
          "parcoords": [
           {
            "line": {
             "colorbar": {
              "outlinewidth": 0,
              "ticks": ""
             }
            },
            "type": "parcoords"
           }
          ],
          "pie": [
           {
            "automargin": true,
            "type": "pie"
           }
          ],
          "scatter": [
           {
            "fillpattern": {
             "fillmode": "overlay",
             "size": 10,
             "solidity": 0.2
            },
            "type": "scatter"
           }
          ],
          "scatter3d": [
           {
            "line": {
             "colorbar": {
              "outlinewidth": 0,
              "ticks": ""
             }
            },
            "marker": {
             "colorbar": {
              "outlinewidth": 0,
              "ticks": ""
             }
            },
            "type": "scatter3d"
           }
          ],
          "scattercarpet": [
           {
            "marker": {
             "colorbar": {
              "outlinewidth": 0,
              "ticks": ""
             }
            },
            "type": "scattercarpet"
           }
          ],
          "scattergeo": [
           {
            "marker": {
             "colorbar": {
              "outlinewidth": 0,
              "ticks": ""
             }
            },
            "type": "scattergeo"
           }
          ],
          "scattergl": [
           {
            "marker": {
             "colorbar": {
              "outlinewidth": 0,
              "ticks": ""
             }
            },
            "type": "scattergl"
           }
          ],
          "scattermapbox": [
           {
            "marker": {
             "colorbar": {
              "outlinewidth": 0,
              "ticks": ""
             }
            },
            "type": "scattermapbox"
           }
          ],
          "scatterpolar": [
           {
            "marker": {
             "colorbar": {
              "outlinewidth": 0,
              "ticks": ""
             }
            },
            "type": "scatterpolar"
           }
          ],
          "scatterpolargl": [
           {
            "marker": {
             "colorbar": {
              "outlinewidth": 0,
              "ticks": ""
             }
            },
            "type": "scatterpolargl"
           }
          ],
          "scatterternary": [
           {
            "marker": {
             "colorbar": {
              "outlinewidth": 0,
              "ticks": ""
             }
            },
            "type": "scatterternary"
           }
          ],
          "surface": [
           {
            "colorbar": {
             "outlinewidth": 0,
             "ticks": ""
            },
            "colorscale": [
             [
              0,
              "#0d0887"
             ],
             [
              0.1111111111111111,
              "#46039f"
             ],
             [
              0.2222222222222222,
              "#7201a8"
             ],
             [
              0.3333333333333333,
              "#9c179e"
             ],
             [
              0.4444444444444444,
              "#bd3786"
             ],
             [
              0.5555555555555556,
              "#d8576b"
             ],
             [
              0.6666666666666666,
              "#ed7953"
             ],
             [
              0.7777777777777778,
              "#fb9f3a"
             ],
             [
              0.8888888888888888,
              "#fdca26"
             ],
             [
              1,
              "#f0f921"
             ]
            ],
            "type": "surface"
           }
          ],
          "table": [
           {
            "cells": {
             "fill": {
              "color": "#EBF0F8"
             },
             "line": {
              "color": "white"
             }
            },
            "header": {
             "fill": {
              "color": "#C8D4E3"
             },
             "line": {
              "color": "white"
             }
            },
            "type": "table"
           }
          ]
         },
         "layout": {
          "annotationdefaults": {
           "arrowcolor": "#2a3f5f",
           "arrowhead": 0,
           "arrowwidth": 1
          },
          "autotypenumbers": "strict",
          "coloraxis": {
           "colorbar": {
            "outlinewidth": 0,
            "ticks": ""
           }
          },
          "colorscale": {
           "diverging": [
            [
             0,
             "#8e0152"
            ],
            [
             0.1,
             "#c51b7d"
            ],
            [
             0.2,
             "#de77ae"
            ],
            [
             0.3,
             "#f1b6da"
            ],
            [
             0.4,
             "#fde0ef"
            ],
            [
             0.5,
             "#f7f7f7"
            ],
            [
             0.6,
             "#e6f5d0"
            ],
            [
             0.7,
             "#b8e186"
            ],
            [
             0.8,
             "#7fbc41"
            ],
            [
             0.9,
             "#4d9221"
            ],
            [
             1,
             "#276419"
            ]
           ],
           "sequential": [
            [
             0,
             "#0d0887"
            ],
            [
             0.1111111111111111,
             "#46039f"
            ],
            [
             0.2222222222222222,
             "#7201a8"
            ],
            [
             0.3333333333333333,
             "#9c179e"
            ],
            [
             0.4444444444444444,
             "#bd3786"
            ],
            [
             0.5555555555555556,
             "#d8576b"
            ],
            [
             0.6666666666666666,
             "#ed7953"
            ],
            [
             0.7777777777777778,
             "#fb9f3a"
            ],
            [
             0.8888888888888888,
             "#fdca26"
            ],
            [
             1,
             "#f0f921"
            ]
           ],
           "sequentialminus": [
            [
             0,
             "#0d0887"
            ],
            [
             0.1111111111111111,
             "#46039f"
            ],
            [
             0.2222222222222222,
             "#7201a8"
            ],
            [
             0.3333333333333333,
             "#9c179e"
            ],
            [
             0.4444444444444444,
             "#bd3786"
            ],
            [
             0.5555555555555556,
             "#d8576b"
            ],
            [
             0.6666666666666666,
             "#ed7953"
            ],
            [
             0.7777777777777778,
             "#fb9f3a"
            ],
            [
             0.8888888888888888,
             "#fdca26"
            ],
            [
             1,
             "#f0f921"
            ]
           ]
          },
          "colorway": [
           "#636efa",
           "#EF553B",
           "#00cc96",
           "#ab63fa",
           "#FFA15A",
           "#19d3f3",
           "#FF6692",
           "#B6E880",
           "#FF97FF",
           "#FECB52"
          ],
          "font": {
           "color": "#2a3f5f"
          },
          "geo": {
           "bgcolor": "white",
           "lakecolor": "white",
           "landcolor": "#E5ECF6",
           "showlakes": true,
           "showland": true,
           "subunitcolor": "white"
          },
          "hoverlabel": {
           "align": "left"
          },
          "hovermode": "closest",
          "mapbox": {
           "style": "light"
          },
          "paper_bgcolor": "white",
          "plot_bgcolor": "#E5ECF6",
          "polar": {
           "angularaxis": {
            "gridcolor": "white",
            "linecolor": "white",
            "ticks": ""
           },
           "bgcolor": "#E5ECF6",
           "radialaxis": {
            "gridcolor": "white",
            "linecolor": "white",
            "ticks": ""
           }
          },
          "scene": {
           "xaxis": {
            "backgroundcolor": "#E5ECF6",
            "gridcolor": "white",
            "gridwidth": 2,
            "linecolor": "white",
            "showbackground": true,
            "ticks": "",
            "zerolinecolor": "white"
           },
           "yaxis": {
            "backgroundcolor": "#E5ECF6",
            "gridcolor": "white",
            "gridwidth": 2,
            "linecolor": "white",
            "showbackground": true,
            "ticks": "",
            "zerolinecolor": "white"
           },
           "zaxis": {
            "backgroundcolor": "#E5ECF6",
            "gridcolor": "white",
            "gridwidth": 2,
            "linecolor": "white",
            "showbackground": true,
            "ticks": "",
            "zerolinecolor": "white"
           }
          },
          "shapedefaults": {
           "line": {
            "color": "#2a3f5f"
           }
          },
          "ternary": {
           "aaxis": {
            "gridcolor": "white",
            "linecolor": "white",
            "ticks": ""
           },
           "baxis": {
            "gridcolor": "white",
            "linecolor": "white",
            "ticks": ""
           },
           "bgcolor": "#E5ECF6",
           "caxis": {
            "gridcolor": "white",
            "linecolor": "white",
            "ticks": ""
           }
          },
          "title": {
           "x": 0.05
          },
          "xaxis": {
           "automargin": true,
           "gridcolor": "white",
           "linecolor": "white",
           "ticks": "",
           "title": {
            "standoff": 15
           },
           "zerolinecolor": "white",
           "zerolinewidth": 2
          },
          "yaxis": {
           "automargin": true,
           "gridcolor": "white",
           "linecolor": "white",
           "ticks": "",
           "title": {
            "standoff": 15
           },
           "zerolinecolor": "white",
           "zerolinewidth": 2
          }
         }
        },
        "title": {
         "text": "Análise Proporcional de Casos de Depressão por Área"
        },
        "xaxis": {
         "anchor": "y",
         "autorange": true,
         "domain": [
          0,
          1
         ],
         "range": [
          -0.5,
          16.5
         ],
         "title": {
          "text": "Área de Atuação"
         },
         "type": "category"
        },
        "yaxis": {
         "anchor": "x",
         "autorange": true,
         "domain": [
          0,
          1
         ],
         "range": [
          0,
          351.57894736842104
         ],
         "title": {
          "text": "Número de Casos"
         },
         "type": "linear"
        }
       }
      },
      "text/html": [
       "<div>                            <div id=\"b396f4e1-de71-4449-a078-34915a010578\" class=\"plotly-graph-div\" style=\"height:525px; width:100%;\"></div>            <script type=\"text/javascript\">                require([\"plotly\"], function(Plotly) {                    window.PLOTLYENV=window.PLOTLYENV || {};                                    if (document.getElementById(\"b396f4e1-de71-4449-a078-34915a010578\")) {                    Plotly.newPlot(                        \"b396f4e1-de71-4449-a078-34915a010578\",                        [{\"alignmentgroup\":\"True\",\"hovertemplate\":\"Depress\\u00e3o=No\\u003cbr\\u003e\\u00c1rea de Atua\\u00e7\\u00e3o=%{x}\\u003cbr\\u003eN\\u00famero de Casos=%{y}\\u003cextra\\u003e\\u003c\\u002fextra\\u003e\",\"legendgroup\":\"No\",\"marker\":{\"color\":\"#F9F459\",\"pattern\":{\"shape\":\"\"}},\"name\":\"No\",\"offsetgroup\":\"No\",\"orientation\":\"v\",\"showlegend\":true,\"textposition\":\"auto\",\"x\":[\"Business\",\"Construction\",\"Consulting\",\"Customer Service\",\"Digital\",\"Education\",\"Engineer\",\"Finance\",\"Gastronomy\",\"General services\",\"Health\",\"Human Resources\",\"Law\",\"Scientist\",\"Technology\",\"Travel\",\"Writing\"],\"xaxis\":\"x\",\"y\":[101,64,132,39,36,334,85,136,54,32,194,72,79,43,143,81,112],\"yaxis\":\"y\",\"type\":\"bar\"},{\"alignmentgroup\":\"True\",\"hovertemplate\":\"Depress\\u00e3o=Yes\\u003cbr\\u003e\\u00c1rea de Atua\\u00e7\\u00e3o=%{x}\\u003cbr\\u003eN\\u00famero de Casos=%{y}\\u003cextra\\u003e\\u003c\\u002fextra\\u003e\",\"legendgroup\":\"Yes\",\"marker\":{\"color\":\"#4893FB\",\"pattern\":{\"shape\":\"\"}},\"name\":\"Yes\",\"offsetgroup\":\"Yes\",\"orientation\":\"v\",\"showlegend\":true,\"textposition\":\"auto\",\"x\":[\"Business\",\"Construction\",\"Consulting\",\"Customer Service\",\"Digital\",\"Education\",\"Engineer\",\"Finance\",\"Gastronomy\",\"General services\",\"Health\",\"Human Resources\",\"Law\",\"Scientist\",\"Technology\",\"Travel\",\"Writing\"],\"xaxis\":\"x\",\"y\":[4,9,11,2,3,32,9,13,5,3,6,12,11,2,16,4,4],\"yaxis\":\"y\",\"type\":\"bar\"}],                        {\"template\":{\"data\":{\"histogram2dcontour\":[{\"type\":\"histogram2dcontour\",\"colorbar\":{\"outlinewidth\":0,\"ticks\":\"\"},\"colorscale\":[[0.0,\"#0d0887\"],[0.1111111111111111,\"#46039f\"],[0.2222222222222222,\"#7201a8\"],[0.3333333333333333,\"#9c179e\"],[0.4444444444444444,\"#bd3786\"],[0.5555555555555556,\"#d8576b\"],[0.6666666666666666,\"#ed7953\"],[0.7777777777777778,\"#fb9f3a\"],[0.8888888888888888,\"#fdca26\"],[1.0,\"#f0f921\"]]}],\"choropleth\":[{\"type\":\"choropleth\",\"colorbar\":{\"outlinewidth\":0,\"ticks\":\"\"}}],\"histogram2d\":[{\"type\":\"histogram2d\",\"colorbar\":{\"outlinewidth\":0,\"ticks\":\"\"},\"colorscale\":[[0.0,\"#0d0887\"],[0.1111111111111111,\"#46039f\"],[0.2222222222222222,\"#7201a8\"],[0.3333333333333333,\"#9c179e\"],[0.4444444444444444,\"#bd3786\"],[0.5555555555555556,\"#d8576b\"],[0.6666666666666666,\"#ed7953\"],[0.7777777777777778,\"#fb9f3a\"],[0.8888888888888888,\"#fdca26\"],[1.0,\"#f0f921\"]]}],\"heatmap\":[{\"type\":\"heatmap\",\"colorbar\":{\"outlinewidth\":0,\"ticks\":\"\"},\"colorscale\":[[0.0,\"#0d0887\"],[0.1111111111111111,\"#46039f\"],[0.2222222222222222,\"#7201a8\"],[0.3333333333333333,\"#9c179e\"],[0.4444444444444444,\"#bd3786\"],[0.5555555555555556,\"#d8576b\"],[0.6666666666666666,\"#ed7953\"],[0.7777777777777778,\"#fb9f3a\"],[0.8888888888888888,\"#fdca26\"],[1.0,\"#f0f921\"]]}],\"heatmapgl\":[{\"type\":\"heatmapgl\",\"colorbar\":{\"outlinewidth\":0,\"ticks\":\"\"},\"colorscale\":[[0.0,\"#0d0887\"],[0.1111111111111111,\"#46039f\"],[0.2222222222222222,\"#7201a8\"],[0.3333333333333333,\"#9c179e\"],[0.4444444444444444,\"#bd3786\"],[0.5555555555555556,\"#d8576b\"],[0.6666666666666666,\"#ed7953\"],[0.7777777777777778,\"#fb9f3a\"],[0.8888888888888888,\"#fdca26\"],[1.0,\"#f0f921\"]]}],\"contourcarpet\":[{\"type\":\"contourcarpet\",\"colorbar\":{\"outlinewidth\":0,\"ticks\":\"\"}}],\"contour\":[{\"type\":\"contour\",\"colorbar\":{\"outlinewidth\":0,\"ticks\":\"\"},\"colorscale\":[[0.0,\"#0d0887\"],[0.1111111111111111,\"#46039f\"],[0.2222222222222222,\"#7201a8\"],[0.3333333333333333,\"#9c179e\"],[0.4444444444444444,\"#bd3786\"],[0.5555555555555556,\"#d8576b\"],[0.6666666666666666,\"#ed7953\"],[0.7777777777777778,\"#fb9f3a\"],[0.8888888888888888,\"#fdca26\"],[1.0,\"#f0f921\"]]}],\"surface\":[{\"type\":\"surface\",\"colorbar\":{\"outlinewidth\":0,\"ticks\":\"\"},\"colorscale\":[[0.0,\"#0d0887\"],[0.1111111111111111,\"#46039f\"],[0.2222222222222222,\"#7201a8\"],[0.3333333333333333,\"#9c179e\"],[0.4444444444444444,\"#bd3786\"],[0.5555555555555556,\"#d8576b\"],[0.6666666666666666,\"#ed7953\"],[0.7777777777777778,\"#fb9f3a\"],[0.8888888888888888,\"#fdca26\"],[1.0,\"#f0f921\"]]}],\"mesh3d\":[{\"type\":\"mesh3d\",\"colorbar\":{\"outlinewidth\":0,\"ticks\":\"\"}}],\"scatter\":[{\"fillpattern\":{\"fillmode\":\"overlay\",\"size\":10,\"solidity\":0.2},\"type\":\"scatter\"}],\"parcoords\":[{\"type\":\"parcoords\",\"line\":{\"colorbar\":{\"outlinewidth\":0,\"ticks\":\"\"}}}],\"scatterpolargl\":[{\"type\":\"scatterpolargl\",\"marker\":{\"colorbar\":{\"outlinewidth\":0,\"ticks\":\"\"}}}],\"bar\":[{\"error_x\":{\"color\":\"#2a3f5f\"},\"error_y\":{\"color\":\"#2a3f5f\"},\"marker\":{\"line\":{\"color\":\"#E5ECF6\",\"width\":0.5},\"pattern\":{\"fillmode\":\"overlay\",\"size\":10,\"solidity\":0.2}},\"type\":\"bar\"}],\"scattergeo\":[{\"type\":\"scattergeo\",\"marker\":{\"colorbar\":{\"outlinewidth\":0,\"ticks\":\"\"}}}],\"scatterpolar\":[{\"type\":\"scatterpolar\",\"marker\":{\"colorbar\":{\"outlinewidth\":0,\"ticks\":\"\"}}}],\"histogram\":[{\"marker\":{\"pattern\":{\"fillmode\":\"overlay\",\"size\":10,\"solidity\":0.2}},\"type\":\"histogram\"}],\"scattergl\":[{\"type\":\"scattergl\",\"marker\":{\"colorbar\":{\"outlinewidth\":0,\"ticks\":\"\"}}}],\"scatter3d\":[{\"type\":\"scatter3d\",\"line\":{\"colorbar\":{\"outlinewidth\":0,\"ticks\":\"\"}},\"marker\":{\"colorbar\":{\"outlinewidth\":0,\"ticks\":\"\"}}}],\"scattermapbox\":[{\"type\":\"scattermapbox\",\"marker\":{\"colorbar\":{\"outlinewidth\":0,\"ticks\":\"\"}}}],\"scatterternary\":[{\"type\":\"scatterternary\",\"marker\":{\"colorbar\":{\"outlinewidth\":0,\"ticks\":\"\"}}}],\"scattercarpet\":[{\"type\":\"scattercarpet\",\"marker\":{\"colorbar\":{\"outlinewidth\":0,\"ticks\":\"\"}}}],\"carpet\":[{\"aaxis\":{\"endlinecolor\":\"#2a3f5f\",\"gridcolor\":\"white\",\"linecolor\":\"white\",\"minorgridcolor\":\"white\",\"startlinecolor\":\"#2a3f5f\"},\"baxis\":{\"endlinecolor\":\"#2a3f5f\",\"gridcolor\":\"white\",\"linecolor\":\"white\",\"minorgridcolor\":\"white\",\"startlinecolor\":\"#2a3f5f\"},\"type\":\"carpet\"}],\"table\":[{\"cells\":{\"fill\":{\"color\":\"#EBF0F8\"},\"line\":{\"color\":\"white\"}},\"header\":{\"fill\":{\"color\":\"#C8D4E3\"},\"line\":{\"color\":\"white\"}},\"type\":\"table\"}],\"barpolar\":[{\"marker\":{\"line\":{\"color\":\"#E5ECF6\",\"width\":0.5},\"pattern\":{\"fillmode\":\"overlay\",\"size\":10,\"solidity\":0.2}},\"type\":\"barpolar\"}],\"pie\":[{\"automargin\":true,\"type\":\"pie\"}]},\"layout\":{\"autotypenumbers\":\"strict\",\"colorway\":[\"#636efa\",\"#EF553B\",\"#00cc96\",\"#ab63fa\",\"#FFA15A\",\"#19d3f3\",\"#FF6692\",\"#B6E880\",\"#FF97FF\",\"#FECB52\"],\"font\":{\"color\":\"#2a3f5f\"},\"hovermode\":\"closest\",\"hoverlabel\":{\"align\":\"left\"},\"paper_bgcolor\":\"white\",\"plot_bgcolor\":\"#E5ECF6\",\"polar\":{\"bgcolor\":\"#E5ECF6\",\"angularaxis\":{\"gridcolor\":\"white\",\"linecolor\":\"white\",\"ticks\":\"\"},\"radialaxis\":{\"gridcolor\":\"white\",\"linecolor\":\"white\",\"ticks\":\"\"}},\"ternary\":{\"bgcolor\":\"#E5ECF6\",\"aaxis\":{\"gridcolor\":\"white\",\"linecolor\":\"white\",\"ticks\":\"\"},\"baxis\":{\"gridcolor\":\"white\",\"linecolor\":\"white\",\"ticks\":\"\"},\"caxis\":{\"gridcolor\":\"white\",\"linecolor\":\"white\",\"ticks\":\"\"}},\"coloraxis\":{\"colorbar\":{\"outlinewidth\":0,\"ticks\":\"\"}},\"colorscale\":{\"sequential\":[[0.0,\"#0d0887\"],[0.1111111111111111,\"#46039f\"],[0.2222222222222222,\"#7201a8\"],[0.3333333333333333,\"#9c179e\"],[0.4444444444444444,\"#bd3786\"],[0.5555555555555556,\"#d8576b\"],[0.6666666666666666,\"#ed7953\"],[0.7777777777777778,\"#fb9f3a\"],[0.8888888888888888,\"#fdca26\"],[1.0,\"#f0f921\"]],\"sequentialminus\":[[0.0,\"#0d0887\"],[0.1111111111111111,\"#46039f\"],[0.2222222222222222,\"#7201a8\"],[0.3333333333333333,\"#9c179e\"],[0.4444444444444444,\"#bd3786\"],[0.5555555555555556,\"#d8576b\"],[0.6666666666666666,\"#ed7953\"],[0.7777777777777778,\"#fb9f3a\"],[0.8888888888888888,\"#fdca26\"],[1.0,\"#f0f921\"]],\"diverging\":[[0,\"#8e0152\"],[0.1,\"#c51b7d\"],[0.2,\"#de77ae\"],[0.3,\"#f1b6da\"],[0.4,\"#fde0ef\"],[0.5,\"#f7f7f7\"],[0.6,\"#e6f5d0\"],[0.7,\"#b8e186\"],[0.8,\"#7fbc41\"],[0.9,\"#4d9221\"],[1,\"#276419\"]]},\"xaxis\":{\"gridcolor\":\"white\",\"linecolor\":\"white\",\"ticks\":\"\",\"title\":{\"standoff\":15},\"zerolinecolor\":\"white\",\"automargin\":true,\"zerolinewidth\":2},\"yaxis\":{\"gridcolor\":\"white\",\"linecolor\":\"white\",\"ticks\":\"\",\"title\":{\"standoff\":15},\"zerolinecolor\":\"white\",\"automargin\":true,\"zerolinewidth\":2},\"scene\":{\"xaxis\":{\"backgroundcolor\":\"#E5ECF6\",\"gridcolor\":\"white\",\"linecolor\":\"white\",\"showbackground\":true,\"ticks\":\"\",\"zerolinecolor\":\"white\",\"gridwidth\":2},\"yaxis\":{\"backgroundcolor\":\"#E5ECF6\",\"gridcolor\":\"white\",\"linecolor\":\"white\",\"showbackground\":true,\"ticks\":\"\",\"zerolinecolor\":\"white\",\"gridwidth\":2},\"zaxis\":{\"backgroundcolor\":\"#E5ECF6\",\"gridcolor\":\"white\",\"linecolor\":\"white\",\"showbackground\":true,\"ticks\":\"\",\"zerolinecolor\":\"white\",\"gridwidth\":2}},\"shapedefaults\":{\"line\":{\"color\":\"#2a3f5f\"}},\"annotationdefaults\":{\"arrowcolor\":\"#2a3f5f\",\"arrowhead\":0,\"arrowwidth\":1},\"geo\":{\"bgcolor\":\"white\",\"landcolor\":\"#E5ECF6\",\"subunitcolor\":\"white\",\"showland\":true,\"showlakes\":true,\"lakecolor\":\"white\"},\"title\":{\"x\":0.05},\"mapbox\":{\"style\":\"light\"}}},\"xaxis\":{\"anchor\":\"y\",\"domain\":[0.0,1.0],\"title\":{\"text\":\"\\u00c1rea de Atua\\u00e7\\u00e3o\"}},\"yaxis\":{\"anchor\":\"x\",\"domain\":[0.0,1.0],\"title\":{\"text\":\"N\\u00famero de Casos\"}},\"legend\":{\"title\":{\"text\":\"Depress\\u00e3o\"},\"tracegroupgap\":0},\"title\":{\"text\":\"An\\u00e1lise Proporcional de Casos de Depress\\u00e3o por \\u00c1rea\"},\"barmode\":\"group\",\"annotations\":[{\"arrowhead\":2,\"ax\":-50,\"ay\":-30,\"font\":{\"color\":\"black\"},\"showarrow\":true,\"text\":\"Maior \\u00edndice de depress\\u00e3o\",\"x\":\"Human Resources\",\"y\":72},{\"arrowhead\":2,\"ax\":-50,\"ay\":-30,\"font\":{\"color\":\"gray\"},\"showarrow\":true,\"text\":\"Menor \\u00edndice de depress\\u00e3o\",\"x\":\"Health\",\"y\":194}]},                        {\"responsive\": true}                    ).then(function(){\n",
       "                            \n",
       "var gd = document.getElementById('b396f4e1-de71-4449-a078-34915a010578');\n",
       "var x = new MutationObserver(function (mutations, observer) {{\n",
       "        var display = window.getComputedStyle(gd).display;\n",
       "        if (!display || display === 'none') {{\n",
       "            console.log([gd, 'removed!']);\n",
       "            Plotly.purge(gd);\n",
       "            observer.disconnect();\n",
       "        }}\n",
       "}});\n",
       "\n",
       "// Listen for the removal of the full notebook cells\n",
       "var notebookContainer = gd.closest('#notebook-container');\n",
       "if (notebookContainer) {{\n",
       "    x.observe(notebookContainer, {childList: true});\n",
       "}}\n",
       "\n",
       "// Listen for the clearing of the current output cell\n",
       "var outputEl = gd.closest('.output');\n",
       "if (outputEl) {{\n",
       "    x.observe(outputEl, {childList: true});\n",
       "}}\n",
       "\n",
       "                        })                };                });            </script>        </div>"
      ]
     },
     "metadata": {},
     "output_type": "display_data"
    }
   ],
   "source": [
    "# Contagem de casos de depressão por área\n",
    "contagem_depressao = df.groupby(['area', 'depression']).size().reset_index(name='count')\n",
    "\n",
    "# Calcular a proporção de \"Yes\" para depressão em cada área\n",
    "proporcoes_depressao = contagem_depressao.pivot(index='area', columns='depression', values='count').fillna(0)\n",
    "proporcoes_depressao['proportion_yes'] = proporcoes_depressao['Yes'] / (proporcoes_depressao['Yes'] + proporcoes_depressao['No'])\n",
    "\n",
    "# Encontrar as áreas com maior e menor proporção de \"Yes\"\n",
    "area_maior_proporcao = proporcoes_depressao['proportion_yes'].idxmax()\n",
    "area_menor_proporcao = proporcoes_depressao['proportion_yes'].idxmin()\n",
    "\n",
    "# Criar o gráfico de barras comparando \"Yes\" e \"No\" para depressão por área\n",
    "grafico_barras = px.bar(\n",
    "    contagem_depressao,\n",
    "    x='area',\n",
    "    y='count',\n",
    "    color='depression',\n",
    "    title='Análise Proporcional de Casos de Depressão por Área',\n",
    "    labels={'area': 'Área de Atuação', 'count': 'Número de Casos', 'depression': 'Depressão'},\n",
    "    barmode='group',\n",
    "    color_discrete_map={\"Yes\": \"#4893FB\", \"No\": \"#F9F459\"}\n",
    ")\n",
    "\n",
    "# Adicionar anotações indicando as áreas com maior e menor proporção de \"Yes\"\n",
    "grafico_barras.add_annotation(\n",
    "    x=area_maior_proporcao,\n",
    "    y=contagem_depressao[contagem_depressao['area'] == area_maior_proporcao]['count'].max(),\n",
    "    text=\"Maior índice de depressão\",\n",
    "    showarrow=True,\n",
    "    arrowhead=2,\n",
    "    ax=-50, ay=-30, font=dict(color=\"black\")\n",
    ")\n",
    "\n",
    "grafico_barras.add_annotation(\n",
    "    x=area_menor_proporcao,\n",
    "    y=contagem_depressao[contagem_depressao['area'] == area_menor_proporcao]['count'].max(),\n",
    "    text=\"Menor índice de depressão\",\n",
    "    showarrow=True,\n",
    "    arrowhead=2,\n",
    "    ax=-50, ay=-30, font=dict(color=\"gray\")\n",
    ")"
   ]
  },
  {
   "cell_type": "raw",
   "id": "4d4f18c2-9996-4d2f-8cac-e83e1b49e1d5",
   "metadata": {},
   "source": [
    "Neste gráfico podemos ver o maior e menor índice de depressão por área de atuação. Neste caso vimos que na área da saúde temos o menor índice de depressão, enquanto na área de recursos humanos temos o maior."
   ]
  },
  {
   "cell_type": "code",
   "execution_count": 44,
   "id": "09ca8b2d-60dc-4bc0-8d02-909538b37a03",
   "metadata": {},
   "outputs": [
    {
     "data": {
      "application/vnd.plotly.v1+json": {
       "config": {
        "plotlyServerURL": "https://plot.ly"
       },
       "data": [
        {
         "alignmentgroup": "True",
         "hovertemplate": "Status de Depressão=yes_count<br>gender=Mulheres<br>=%{x}<br>Número de Pessoas=%{text}<extra></extra>",
         "legendgroup": "yes_count",
         "marker": {
          "color": "#4893FB",
          "pattern": {
           "shape": ""
          }
         },
         "name": "Sim",
         "offsetgroup": "yes_count",
         "orientation": "v",
         "showlegend": true,
         "text": [
          114,
          100
         ],
         "textposition": "auto",
         "type": "bar",
         "x": [
          "Student",
          "Working Professional"
         ],
         "xaxis": "x",
         "y": [
          114,
          100
         ],
         "yaxis": "y"
        },
        {
         "alignmentgroup": "True",
         "hovertemplate": "Status de Depressão=yes_count<br>gender=Homens<br>=%{x}<br>Número de Pessoas=%{text}<extra></extra>",
         "legendgroup": "yes_count",
         "marker": {
          "color": "#4893FB",
          "pattern": {
           "shape": ""
          }
         },
         "name": "Sim",
         "offsetgroup": "yes_count",
         "orientation": "v",
         "showlegend": false,
         "text": [
          138,
          103
         ],
         "textposition": "auto",
         "type": "bar",
         "x": [
          "Student",
          "Working Professional"
         ],
         "xaxis": "x2",
         "y": [
          138,
          103
         ],
         "yaxis": "y2"
        },
        {
         "alignmentgroup": "True",
         "hovertemplate": "Status de Depressão=no_count<br>gender=Mulheres<br>=%{x}<br>Número de Pessoas=%{text}<extra></extra>",
         "legendgroup": "no_count",
         "marker": {
          "color": "#F9F459",
          "pattern": {
           "shape": ""
          }
         },
         "name": "Não",
         "offsetgroup": "no_count",
         "orientation": "v",
         "showlegend": true,
         "text": [
          121,
          888
         ],
         "textposition": "auto",
         "type": "bar",
         "x": [
          "Student",
          "Working Professional"
         ],
         "xaxis": "x",
         "y": [
          121,
          888
         ],
         "yaxis": "y"
        },
        {
         "alignmentgroup": "True",
         "hovertemplate": "Status de Depressão=no_count<br>gender=Homens<br>=%{x}<br>Número de Pessoas=%{text}<extra></extra>",
         "legendgroup": "no_count",
         "marker": {
          "color": "#F9F459",
          "pattern": {
           "shape": ""
          }
         },
         "name": "Não",
         "offsetgroup": "no_count",
         "orientation": "v",
         "showlegend": false,
         "text": [
          129,
          963
         ],
         "textposition": "auto",
         "type": "bar",
         "x": [
          "Student",
          "Working Professional"
         ],
         "xaxis": "x2",
         "y": [
          129,
          963
         ],
         "yaxis": "y2"
        }
       ],
       "layout": {
        "annotations": [
         {
          "showarrow": false,
          "text": "Mulheres",
          "x": 0.245,
          "xanchor": "center",
          "xref": "paper",
          "y": 1,
          "yanchor": "bottom",
          "yref": "paper"
         },
         {
          "showarrow": false,
          "text": "Homens",
          "x": 0.755,
          "xanchor": "center",
          "xref": "paper",
          "y": 1,
          "yanchor": "bottom",
          "yref": "paper"
         },
         {
          "arrowcolor": "black",
          "arrowhead": 2,
          "ax": -40,
          "ay": -60,
          "font": {
           "color": "black",
           "size": 12
          },
          "showarrow": true,
          "text": "Maior índice de depressão",
          "x": "Student",
          "xref": "x2",
          "y": 114,
          "yref": "y2"
         },
         {
          "arrowcolor": "green",
          "arrowhead": 2,
          "ax": -40,
          "ay": -60,
          "font": {
           "color": "green",
           "size": 12
          },
          "showarrow": true,
          "text": "Menor índice de depressão",
          "x": "Working Professional",
          "xref": "x2",
          "y": 103,
          "yref": "y2"
         }
        ],
        "autosize": true,
        "barmode": "group",
        "legend": {
         "title": {
          "text": "Status de Depressão"
         },
         "tracegroupgap": 0
        },
        "template": {
         "data": {
          "bar": [
           {
            "error_x": {
             "color": "#2a3f5f"
            },
            "error_y": {
             "color": "#2a3f5f"
            },
            "marker": {
             "line": {
              "color": "#E5ECF6",
              "width": 0.5
             },
             "pattern": {
              "fillmode": "overlay",
              "size": 10,
              "solidity": 0.2
             }
            },
            "type": "bar"
           }
          ],
          "barpolar": [
           {
            "marker": {
             "line": {
              "color": "#E5ECF6",
              "width": 0.5
             },
             "pattern": {
              "fillmode": "overlay",
              "size": 10,
              "solidity": 0.2
             }
            },
            "type": "barpolar"
           }
          ],
          "carpet": [
           {
            "aaxis": {
             "endlinecolor": "#2a3f5f",
             "gridcolor": "white",
             "linecolor": "white",
             "minorgridcolor": "white",
             "startlinecolor": "#2a3f5f"
            },
            "baxis": {
             "endlinecolor": "#2a3f5f",
             "gridcolor": "white",
             "linecolor": "white",
             "minorgridcolor": "white",
             "startlinecolor": "#2a3f5f"
            },
            "type": "carpet"
           }
          ],
          "choropleth": [
           {
            "colorbar": {
             "outlinewidth": 0,
             "ticks": ""
            },
            "type": "choropleth"
           }
          ],
          "contour": [
           {
            "colorbar": {
             "outlinewidth": 0,
             "ticks": ""
            },
            "colorscale": [
             [
              0,
              "#0d0887"
             ],
             [
              0.1111111111111111,
              "#46039f"
             ],
             [
              0.2222222222222222,
              "#7201a8"
             ],
             [
              0.3333333333333333,
              "#9c179e"
             ],
             [
              0.4444444444444444,
              "#bd3786"
             ],
             [
              0.5555555555555556,
              "#d8576b"
             ],
             [
              0.6666666666666666,
              "#ed7953"
             ],
             [
              0.7777777777777778,
              "#fb9f3a"
             ],
             [
              0.8888888888888888,
              "#fdca26"
             ],
             [
              1,
              "#f0f921"
             ]
            ],
            "type": "contour"
           }
          ],
          "contourcarpet": [
           {
            "colorbar": {
             "outlinewidth": 0,
             "ticks": ""
            },
            "type": "contourcarpet"
           }
          ],
          "heatmap": [
           {
            "colorbar": {
             "outlinewidth": 0,
             "ticks": ""
            },
            "colorscale": [
             [
              0,
              "#0d0887"
             ],
             [
              0.1111111111111111,
              "#46039f"
             ],
             [
              0.2222222222222222,
              "#7201a8"
             ],
             [
              0.3333333333333333,
              "#9c179e"
             ],
             [
              0.4444444444444444,
              "#bd3786"
             ],
             [
              0.5555555555555556,
              "#d8576b"
             ],
             [
              0.6666666666666666,
              "#ed7953"
             ],
             [
              0.7777777777777778,
              "#fb9f3a"
             ],
             [
              0.8888888888888888,
              "#fdca26"
             ],
             [
              1,
              "#f0f921"
             ]
            ],
            "type": "heatmap"
           }
          ],
          "heatmapgl": [
           {
            "colorbar": {
             "outlinewidth": 0,
             "ticks": ""
            },
            "colorscale": [
             [
              0,
              "#0d0887"
             ],
             [
              0.1111111111111111,
              "#46039f"
             ],
             [
              0.2222222222222222,
              "#7201a8"
             ],
             [
              0.3333333333333333,
              "#9c179e"
             ],
             [
              0.4444444444444444,
              "#bd3786"
             ],
             [
              0.5555555555555556,
              "#d8576b"
             ],
             [
              0.6666666666666666,
              "#ed7953"
             ],
             [
              0.7777777777777778,
              "#fb9f3a"
             ],
             [
              0.8888888888888888,
              "#fdca26"
             ],
             [
              1,
              "#f0f921"
             ]
            ],
            "type": "heatmapgl"
           }
          ],
          "histogram": [
           {
            "marker": {
             "pattern": {
              "fillmode": "overlay",
              "size": 10,
              "solidity": 0.2
             }
            },
            "type": "histogram"
           }
          ],
          "histogram2d": [
           {
            "colorbar": {
             "outlinewidth": 0,
             "ticks": ""
            },
            "colorscale": [
             [
              0,
              "#0d0887"
             ],
             [
              0.1111111111111111,
              "#46039f"
             ],
             [
              0.2222222222222222,
              "#7201a8"
             ],
             [
              0.3333333333333333,
              "#9c179e"
             ],
             [
              0.4444444444444444,
              "#bd3786"
             ],
             [
              0.5555555555555556,
              "#d8576b"
             ],
             [
              0.6666666666666666,
              "#ed7953"
             ],
             [
              0.7777777777777778,
              "#fb9f3a"
             ],
             [
              0.8888888888888888,
              "#fdca26"
             ],
             [
              1,
              "#f0f921"
             ]
            ],
            "type": "histogram2d"
           }
          ],
          "histogram2dcontour": [
           {
            "colorbar": {
             "outlinewidth": 0,
             "ticks": ""
            },
            "colorscale": [
             [
              0,
              "#0d0887"
             ],
             [
              0.1111111111111111,
              "#46039f"
             ],
             [
              0.2222222222222222,
              "#7201a8"
             ],
             [
              0.3333333333333333,
              "#9c179e"
             ],
             [
              0.4444444444444444,
              "#bd3786"
             ],
             [
              0.5555555555555556,
              "#d8576b"
             ],
             [
              0.6666666666666666,
              "#ed7953"
             ],
             [
              0.7777777777777778,
              "#fb9f3a"
             ],
             [
              0.8888888888888888,
              "#fdca26"
             ],
             [
              1,
              "#f0f921"
             ]
            ],
            "type": "histogram2dcontour"
           }
          ],
          "mesh3d": [
           {
            "colorbar": {
             "outlinewidth": 0,
             "ticks": ""
            },
            "type": "mesh3d"
           }
          ],
          "parcoords": [
           {
            "line": {
             "colorbar": {
              "outlinewidth": 0,
              "ticks": ""
             }
            },
            "type": "parcoords"
           }
          ],
          "pie": [
           {
            "automargin": true,
            "type": "pie"
           }
          ],
          "scatter": [
           {
            "fillpattern": {
             "fillmode": "overlay",
             "size": 10,
             "solidity": 0.2
            },
            "type": "scatter"
           }
          ],
          "scatter3d": [
           {
            "line": {
             "colorbar": {
              "outlinewidth": 0,
              "ticks": ""
             }
            },
            "marker": {
             "colorbar": {
              "outlinewidth": 0,
              "ticks": ""
             }
            },
            "type": "scatter3d"
           }
          ],
          "scattercarpet": [
           {
            "marker": {
             "colorbar": {
              "outlinewidth": 0,
              "ticks": ""
             }
            },
            "type": "scattercarpet"
           }
          ],
          "scattergeo": [
           {
            "marker": {
             "colorbar": {
              "outlinewidth": 0,
              "ticks": ""
             }
            },
            "type": "scattergeo"
           }
          ],
          "scattergl": [
           {
            "marker": {
             "colorbar": {
              "outlinewidth": 0,
              "ticks": ""
             }
            },
            "type": "scattergl"
           }
          ],
          "scattermapbox": [
           {
            "marker": {
             "colorbar": {
              "outlinewidth": 0,
              "ticks": ""
             }
            },
            "type": "scattermapbox"
           }
          ],
          "scatterpolar": [
           {
            "marker": {
             "colorbar": {
              "outlinewidth": 0,
              "ticks": ""
             }
            },
            "type": "scatterpolar"
           }
          ],
          "scatterpolargl": [
           {
            "marker": {
             "colorbar": {
              "outlinewidth": 0,
              "ticks": ""
             }
            },
            "type": "scatterpolargl"
           }
          ],
          "scatterternary": [
           {
            "marker": {
             "colorbar": {
              "outlinewidth": 0,
              "ticks": ""
             }
            },
            "type": "scatterternary"
           }
          ],
          "surface": [
           {
            "colorbar": {
             "outlinewidth": 0,
             "ticks": ""
            },
            "colorscale": [
             [
              0,
              "#0d0887"
             ],
             [
              0.1111111111111111,
              "#46039f"
             ],
             [
              0.2222222222222222,
              "#7201a8"
             ],
             [
              0.3333333333333333,
              "#9c179e"
             ],
             [
              0.4444444444444444,
              "#bd3786"
             ],
             [
              0.5555555555555556,
              "#d8576b"
             ],
             [
              0.6666666666666666,
              "#ed7953"
             ],
             [
              0.7777777777777778,
              "#fb9f3a"
             ],
             [
              0.8888888888888888,
              "#fdca26"
             ],
             [
              1,
              "#f0f921"
             ]
            ],
            "type": "surface"
           }
          ],
          "table": [
           {
            "cells": {
             "fill": {
              "color": "#EBF0F8"
             },
             "line": {
              "color": "white"
             }
            },
            "header": {
             "fill": {
              "color": "#C8D4E3"
             },
             "line": {
              "color": "white"
             }
            },
            "type": "table"
           }
          ]
         },
         "layout": {
          "annotationdefaults": {
           "arrowcolor": "#2a3f5f",
           "arrowhead": 0,
           "arrowwidth": 1
          },
          "autotypenumbers": "strict",
          "coloraxis": {
           "colorbar": {
            "outlinewidth": 0,
            "ticks": ""
           }
          },
          "colorscale": {
           "diverging": [
            [
             0,
             "#8e0152"
            ],
            [
             0.1,
             "#c51b7d"
            ],
            [
             0.2,
             "#de77ae"
            ],
            [
             0.3,
             "#f1b6da"
            ],
            [
             0.4,
             "#fde0ef"
            ],
            [
             0.5,
             "#f7f7f7"
            ],
            [
             0.6,
             "#e6f5d0"
            ],
            [
             0.7,
             "#b8e186"
            ],
            [
             0.8,
             "#7fbc41"
            ],
            [
             0.9,
             "#4d9221"
            ],
            [
             1,
             "#276419"
            ]
           ],
           "sequential": [
            [
             0,
             "#0d0887"
            ],
            [
             0.1111111111111111,
             "#46039f"
            ],
            [
             0.2222222222222222,
             "#7201a8"
            ],
            [
             0.3333333333333333,
             "#9c179e"
            ],
            [
             0.4444444444444444,
             "#bd3786"
            ],
            [
             0.5555555555555556,
             "#d8576b"
            ],
            [
             0.6666666666666666,
             "#ed7953"
            ],
            [
             0.7777777777777778,
             "#fb9f3a"
            ],
            [
             0.8888888888888888,
             "#fdca26"
            ],
            [
             1,
             "#f0f921"
            ]
           ],
           "sequentialminus": [
            [
             0,
             "#0d0887"
            ],
            [
             0.1111111111111111,
             "#46039f"
            ],
            [
             0.2222222222222222,
             "#7201a8"
            ],
            [
             0.3333333333333333,
             "#9c179e"
            ],
            [
             0.4444444444444444,
             "#bd3786"
            ],
            [
             0.5555555555555556,
             "#d8576b"
            ],
            [
             0.6666666666666666,
             "#ed7953"
            ],
            [
             0.7777777777777778,
             "#fb9f3a"
            ],
            [
             0.8888888888888888,
             "#fdca26"
            ],
            [
             1,
             "#f0f921"
            ]
           ]
          },
          "colorway": [
           "#636efa",
           "#EF553B",
           "#00cc96",
           "#ab63fa",
           "#FFA15A",
           "#19d3f3",
           "#FF6692",
           "#B6E880",
           "#FF97FF",
           "#FECB52"
          ],
          "font": {
           "color": "#2a3f5f"
          },
          "geo": {
           "bgcolor": "white",
           "lakecolor": "white",
           "landcolor": "#E5ECF6",
           "showlakes": true,
           "showland": true,
           "subunitcolor": "white"
          },
          "hoverlabel": {
           "align": "left"
          },
          "hovermode": "closest",
          "mapbox": {
           "style": "light"
          },
          "paper_bgcolor": "white",
          "plot_bgcolor": "#E5ECF6",
          "polar": {
           "angularaxis": {
            "gridcolor": "white",
            "linecolor": "white",
            "ticks": ""
           },
           "bgcolor": "#E5ECF6",
           "radialaxis": {
            "gridcolor": "white",
            "linecolor": "white",
            "ticks": ""
           }
          },
          "scene": {
           "xaxis": {
            "backgroundcolor": "#E5ECF6",
            "gridcolor": "white",
            "gridwidth": 2,
            "linecolor": "white",
            "showbackground": true,
            "ticks": "",
            "zerolinecolor": "white"
           },
           "yaxis": {
            "backgroundcolor": "#E5ECF6",
            "gridcolor": "white",
            "gridwidth": 2,
            "linecolor": "white",
            "showbackground": true,
            "ticks": "",
            "zerolinecolor": "white"
           },
           "zaxis": {
            "backgroundcolor": "#E5ECF6",
            "gridcolor": "white",
            "gridwidth": 2,
            "linecolor": "white",
            "showbackground": true,
            "ticks": "",
            "zerolinecolor": "white"
           }
          },
          "shapedefaults": {
           "line": {
            "color": "#2a3f5f"
           }
          },
          "ternary": {
           "aaxis": {
            "gridcolor": "white",
            "linecolor": "white",
            "ticks": ""
           },
           "baxis": {
            "gridcolor": "white",
            "linecolor": "white",
            "ticks": ""
           },
           "bgcolor": "#E5ECF6",
           "caxis": {
            "gridcolor": "white",
            "linecolor": "white",
            "ticks": ""
           }
          },
          "title": {
           "x": 0.05
          },
          "xaxis": {
           "automargin": true,
           "gridcolor": "white",
           "linecolor": "white",
           "ticks": "",
           "title": {
            "standoff": 15
           },
           "zerolinecolor": "white",
           "zerolinewidth": 2
          },
          "yaxis": {
           "automargin": true,
           "gridcolor": "white",
           "linecolor": "white",
           "ticks": "",
           "title": {
            "standoff": 15
           },
           "zerolinecolor": "white",
           "zerolinewidth": 2
          }
         }
        },
        "title": {
         "text": "Indice de depressão por Gênero e Situação"
        },
        "xaxis": {
         "anchor": "y",
         "autorange": true,
         "domain": [
          0,
          0.49
         ],
         "range": [
          -0.6016777071335841,
          1.5
         ],
         "title": {
          "text": ""
         },
         "type": "category"
        },
        "xaxis2": {
         "anchor": "y2",
         "autorange": true,
         "domain": [
          0.51,
          1
         ],
         "matches": "x",
         "range": [
          -0.6016777071335841,
          1.5
         ],
         "title": {
          "text": ""
         },
         "type": "category"
        },
        "yaxis": {
         "anchor": "x",
         "autorange": true,
         "domain": [
          0,
          1
         ],
         "range": [
          0,
          1013.6842105263158
         ],
         "title": {
          "text": "Número de Pessoas"
         },
         "type": "linear"
        },
        "yaxis2": {
         "anchor": "x2",
         "autorange": true,
         "domain": [
          0,
          1
         ],
         "matches": "y",
         "range": [
          0,
          1013.6842105263158
         ],
         "showticklabels": false,
         "type": "linear"
        }
       }
      },
      "image/png": "[encoded data removed]",
      "text/html": [
       "<div>                            <div id=\"354d1039-9696-4e15-a067-47e55ae51169\" class=\"plotly-graph-div\" style=\"height:525px; width:100%;\"></div>            <script type=\"text/javascript\">                require([\"plotly\"], function(Plotly) {                    window.PLOTLYENV=window.PLOTLYENV || {};                                    if (document.getElementById(\"354d1039-9696-4e15-a067-47e55ae51169\")) {                    Plotly.newPlot(                        \"354d1039-9696-4e15-a067-47e55ae51169\",                        [{\"alignmentgroup\":\"True\",\"hovertemplate\":\"Status de Depress\\u00e3o=yes_count\\u003cbr\\u003egender=Mulheres\\u003cbr\\u003e=%{x}\\u003cbr\\u003eN\\u00famero de Pessoas=%{text}\\u003cextra\\u003e\\u003c\\u002fextra\\u003e\",\"legendgroup\":\"yes_count\",\"marker\":{\"color\":\"#4893FB\",\"pattern\":{\"shape\":\"\"}},\"name\":\"Sim\",\"offsetgroup\":\"yes_count\",\"orientation\":\"v\",\"showlegend\":true,\"text\":[114.0,100.0],\"textposition\":\"auto\",\"x\":[\"Student\",\"Working Professional\"],\"xaxis\":\"x\",\"y\":[114,100],\"yaxis\":\"y\",\"type\":\"bar\"},{\"alignmentgroup\":\"True\",\"hovertemplate\":\"Status de Depress\\u00e3o=yes_count\\u003cbr\\u003egender=Homens\\u003cbr\\u003e=%{x}\\u003cbr\\u003eN\\u00famero de Pessoas=%{text}\\u003cextra\\u003e\\u003c\\u002fextra\\u003e\",\"legendgroup\":\"yes_count\",\"marker\":{\"color\":\"#4893FB\",\"pattern\":{\"shape\":\"\"}},\"name\":\"Sim\",\"offsetgroup\":\"yes_count\",\"orientation\":\"v\",\"showlegend\":false,\"text\":[138.0,103.0],\"textposition\":\"auto\",\"x\":[\"Student\",\"Working Professional\"],\"xaxis\":\"x2\",\"y\":[138,103],\"yaxis\":\"y2\",\"type\":\"bar\"},{\"alignmentgroup\":\"True\",\"hovertemplate\":\"Status de Depress\\u00e3o=no_count\\u003cbr\\u003egender=Mulheres\\u003cbr\\u003e=%{x}\\u003cbr\\u003eN\\u00famero de Pessoas=%{text}\\u003cextra\\u003e\\u003c\\u002fextra\\u003e\",\"legendgroup\":\"no_count\",\"marker\":{\"color\":\"#F9F459\",\"pattern\":{\"shape\":\"\"}},\"name\":\"N\\u00e3o\",\"offsetgroup\":\"no_count\",\"orientation\":\"v\",\"showlegend\":true,\"text\":[121.0,888.0],\"textposition\":\"auto\",\"x\":[\"Student\",\"Working Professional\"],\"xaxis\":\"x\",\"y\":[121,888],\"yaxis\":\"y\",\"type\":\"bar\"},{\"alignmentgroup\":\"True\",\"hovertemplate\":\"Status de Depress\\u00e3o=no_count\\u003cbr\\u003egender=Homens\\u003cbr\\u003e=%{x}\\u003cbr\\u003eN\\u00famero de Pessoas=%{text}\\u003cextra\\u003e\\u003c\\u002fextra\\u003e\",\"legendgroup\":\"no_count\",\"marker\":{\"color\":\"#F9F459\",\"pattern\":{\"shape\":\"\"}},\"name\":\"N\\u00e3o\",\"offsetgroup\":\"no_count\",\"orientation\":\"v\",\"showlegend\":false,\"text\":[129.0,963.0],\"textposition\":\"auto\",\"x\":[\"Student\",\"Working Professional\"],\"xaxis\":\"x2\",\"y\":[129,963],\"yaxis\":\"y2\",\"type\":\"bar\"}],                        {\"template\":{\"data\":{\"histogram2dcontour\":[{\"type\":\"histogram2dcontour\",\"colorbar\":{\"outlinewidth\":0,\"ticks\":\"\"},\"colorscale\":[[0.0,\"#0d0887\"],[0.1111111111111111,\"#46039f\"],[0.2222222222222222,\"#7201a8\"],[0.3333333333333333,\"#9c179e\"],[0.4444444444444444,\"#bd3786\"],[0.5555555555555556,\"#d8576b\"],[0.6666666666666666,\"#ed7953\"],[0.7777777777777778,\"#fb9f3a\"],[0.8888888888888888,\"#fdca26\"],[1.0,\"#f0f921\"]]}],\"choropleth\":[{\"type\":\"choropleth\",\"colorbar\":{\"outlinewidth\":0,\"ticks\":\"\"}}],\"histogram2d\":[{\"type\":\"histogram2d\",\"colorbar\":{\"outlinewidth\":0,\"ticks\":\"\"},\"colorscale\":[[0.0,\"#0d0887\"],[0.1111111111111111,\"#46039f\"],[0.2222222222222222,\"#7201a8\"],[0.3333333333333333,\"#9c179e\"],[0.4444444444444444,\"#bd3786\"],[0.5555555555555556,\"#d8576b\"],[0.6666666666666666,\"#ed7953\"],[0.7777777777777778,\"#fb9f3a\"],[0.8888888888888888,\"#fdca26\"],[1.0,\"#f0f921\"]]}],\"heatmap\":[{\"type\":\"heatmap\",\"colorbar\":{\"outlinewidth\":0,\"ticks\":\"\"},\"colorscale\":[[0.0,\"#0d0887\"],[0.1111111111111111,\"#46039f\"],[0.2222222222222222,\"#7201a8\"],[0.3333333333333333,\"#9c179e\"],[0.4444444444444444,\"#bd3786\"],[0.5555555555555556,\"#d8576b\"],[0.6666666666666666,\"#ed7953\"],[0.7777777777777778,\"#fb9f3a\"],[0.8888888888888888,\"#fdca26\"],[1.0,\"#f0f921\"]]}],\"heatmapgl\":[{\"type\":\"heatmapgl\",\"colorbar\":{\"outlinewidth\":0,\"ticks\":\"\"},\"colorscale\":[[0.0,\"#0d0887\"],[0.1111111111111111,\"#46039f\"],[0.2222222222222222,\"#7201a8\"],[0.3333333333333333,\"#9c179e\"],[0.4444444444444444,\"#bd3786\"],[0.5555555555555556,\"#d8576b\"],[0.6666666666666666,\"#ed7953\"],[0.7777777777777778,\"#fb9f3a\"],[0.8888888888888888,\"#fdca26\"],[1.0,\"#f0f921\"]]}],\"contourcarpet\":[{\"type\":\"contourcarpet\",\"colorbar\":{\"outlinewidth\":0,\"ticks\":\"\"}}],\"contour\":[{\"type\":\"contour\",\"colorbar\":{\"outlinewidth\":0,\"ticks\":\"\"},\"colorscale\":[[0.0,\"#0d0887\"],[0.1111111111111111,\"#46039f\"],[0.2222222222222222,\"#7201a8\"],[0.3333333333333333,\"#9c179e\"],[0.4444444444444444,\"#bd3786\"],[0.5555555555555556,\"#d8576b\"],[0.6666666666666666,\"#ed7953\"],[0.7777777777777778,\"#fb9f3a\"],[0.8888888888888888,\"#fdca26\"],[1.0,\"#f0f921\"]]}],\"surface\":[{\"type\":\"surface\",\"colorbar\":{\"outlinewidth\":0,\"ticks\":\"\"},\"colorscale\":[[0.0,\"#0d0887\"],[0.1111111111111111,\"#46039f\"],[0.2222222222222222,\"#7201a8\"],[0.3333333333333333,\"#9c179e\"],[0.4444444444444444,\"#bd3786\"],[0.5555555555555556,\"#d8576b\"],[0.6666666666666666,\"#ed7953\"],[0.7777777777777778,\"#fb9f3a\"],[0.8888888888888888,\"#fdca26\"],[1.0,\"#f0f921\"]]}],\"mesh3d\":[{\"type\":\"mesh3d\",\"colorbar\":{\"outlinewidth\":0,\"ticks\":\"\"}}],\"scatter\":[{\"fillpattern\":{\"fillmode\":\"overlay\",\"size\":10,\"solidity\":0.2},\"type\":\"scatter\"}],\"parcoords\":[{\"type\":\"parcoords\",\"line\":{\"colorbar\":{\"outlinewidth\":0,\"ticks\":\"\"}}}],\"scatterpolargl\":[{\"type\":\"scatterpolargl\",\"marker\":{\"colorbar\":{\"outlinewidth\":0,\"ticks\":\"\"}}}],\"bar\":[{\"error_x\":{\"color\":\"#2a3f5f\"},\"error_y\":{\"color\":\"#2a3f5f\"},\"marker\":{\"line\":{\"color\":\"#E5ECF6\",\"width\":0.5},\"pattern\":{\"fillmode\":\"overlay\",\"size\":10,\"solidity\":0.2}},\"type\":\"bar\"}],\"scattergeo\":[{\"type\":\"scattergeo\",\"marker\":{\"colorbar\":{\"outlinewidth\":0,\"ticks\":\"\"}}}],\"scatterpolar\":[{\"type\":\"scatterpolar\",\"marker\":{\"colorbar\":{\"outlinewidth\":0,\"ticks\":\"\"}}}],\"histogram\":[{\"marker\":{\"pattern\":{\"fillmode\":\"overlay\",\"size\":10,\"solidity\":0.2}},\"type\":\"histogram\"}],\"scattergl\":[{\"type\":\"scattergl\",\"marker\":{\"colorbar\":{\"outlinewidth\":0,\"ticks\":\"\"}}}],\"scatter3d\":[{\"type\":\"scatter3d\",\"line\":{\"colorbar\":{\"outlinewidth\":0,\"ticks\":\"\"}},\"marker\":{\"colorbar\":{\"outlinewidth\":0,\"ticks\":\"\"}}}],\"scattermapbox\":[{\"type\":\"scattermapbox\",\"marker\":{\"colorbar\":{\"outlinewidth\":0,\"ticks\":\"\"}}}],\"scatterternary\":[{\"type\":\"scatterternary\",\"marker\":{\"colorbar\":{\"outlinewidth\":0,\"ticks\":\"\"}}}],\"scattercarpet\":[{\"type\":\"scattercarpet\",\"marker\":{\"colorbar\":{\"outlinewidth\":0,\"ticks\":\"\"}}}],\"carpet\":[{\"aaxis\":{\"endlinecolor\":\"#2a3f5f\",\"gridcolor\":\"white\",\"linecolor\":\"white\",\"minorgridcolor\":\"white\",\"startlinecolor\":\"#2a3f5f\"},\"baxis\":{\"endlinecolor\":\"#2a3f5f\",\"gridcolor\":\"white\",\"linecolor\":\"white\",\"minorgridcolor\":\"white\",\"startlinecolor\":\"#2a3f5f\"},\"type\":\"carpet\"}],\"table\":[{\"cells\":{\"fill\":{\"color\":\"#EBF0F8\"},\"line\":{\"color\":\"white\"}},\"header\":{\"fill\":{\"color\":\"#C8D4E3\"},\"line\":{\"color\":\"white\"}},\"type\":\"table\"}],\"barpolar\":[{\"marker\":{\"line\":{\"color\":\"#E5ECF6\",\"width\":0.5},\"pattern\":{\"fillmode\":\"overlay\",\"size\":10,\"solidity\":0.2}},\"type\":\"barpolar\"}],\"pie\":[{\"automargin\":true,\"type\":\"pie\"}]},\"layout\":{\"autotypenumbers\":\"strict\",\"colorway\":[\"#636efa\",\"#EF553B\",\"#00cc96\",\"#ab63fa\",\"#FFA15A\",\"#19d3f3\",\"#FF6692\",\"#B6E880\",\"#FF97FF\",\"#FECB52\"],\"font\":{\"color\":\"#2a3f5f\"},\"hovermode\":\"closest\",\"hoverlabel\":{\"align\":\"left\"},\"paper_bgcolor\":\"white\",\"plot_bgcolor\":\"#E5ECF6\",\"polar\":{\"bgcolor\":\"#E5ECF6\",\"angularaxis\":{\"gridcolor\":\"white\",\"linecolor\":\"white\",\"ticks\":\"\"},\"radialaxis\":{\"gridcolor\":\"white\",\"linecolor\":\"white\",\"ticks\":\"\"}},\"ternary\":{\"bgcolor\":\"#E5ECF6\",\"aaxis\":{\"gridcolor\":\"white\",\"linecolor\":\"white\",\"ticks\":\"\"},\"baxis\":{\"gridcolor\":\"white\",\"linecolor\":\"white\",\"ticks\":\"\"},\"caxis\":{\"gridcolor\":\"white\",\"linecolor\":\"white\",\"ticks\":\"\"}},\"coloraxis\":{\"colorbar\":{\"outlinewidth\":0,\"ticks\":\"\"}},\"colorscale\":{\"sequential\":[[0.0,\"#0d0887\"],[0.1111111111111111,\"#46039f\"],[0.2222222222222222,\"#7201a8\"],[0.3333333333333333,\"#9c179e\"],[0.4444444444444444,\"#bd3786\"],[0.5555555555555556,\"#d8576b\"],[0.6666666666666666,\"#ed7953\"],[0.7777777777777778,\"#fb9f3a\"],[0.8888888888888888,\"#fdca26\"],[1.0,\"#f0f921\"]],\"sequentialminus\":[[0.0,\"#0d0887\"],[0.1111111111111111,\"#46039f\"],[0.2222222222222222,\"#7201a8\"],[0.3333333333333333,\"#9c179e\"],[0.4444444444444444,\"#bd3786\"],[0.5555555555555556,\"#d8576b\"],[0.6666666666666666,\"#ed7953\"],[0.7777777777777778,\"#fb9f3a\"],[0.8888888888888888,\"#fdca26\"],[1.0,\"#f0f921\"]],\"diverging\":[[0,\"#8e0152\"],[0.1,\"#c51b7d\"],[0.2,\"#de77ae\"],[0.3,\"#f1b6da\"],[0.4,\"#fde0ef\"],[0.5,\"#f7f7f7\"],[0.6,\"#e6f5d0\"],[0.7,\"#b8e186\"],[0.8,\"#7fbc41\"],[0.9,\"#4d9221\"],[1,\"#276419\"]]},\"xaxis\":{\"gridcolor\":\"white\",\"linecolor\":\"white\",\"ticks\":\"\",\"title\":{\"standoff\":15},\"zerolinecolor\":\"white\",\"automargin\":true,\"zerolinewidth\":2},\"yaxis\":{\"gridcolor\":\"white\",\"linecolor\":\"white\",\"ticks\":\"\",\"title\":{\"standoff\":15},\"zerolinecolor\":\"white\",\"automargin\":true,\"zerolinewidth\":2},\"scene\":{\"xaxis\":{\"backgroundcolor\":\"#E5ECF6\",\"gridcolor\":\"white\",\"linecolor\":\"white\",\"showbackground\":true,\"ticks\":\"\",\"zerolinecolor\":\"white\",\"gridwidth\":2},\"yaxis\":{\"backgroundcolor\":\"#E5ECF6\",\"gridcolor\":\"white\",\"linecolor\":\"white\",\"showbackground\":true,\"ticks\":\"\",\"zerolinecolor\":\"white\",\"gridwidth\":2},\"zaxis\":{\"backgroundcolor\":\"#E5ECF6\",\"gridcolor\":\"white\",\"linecolor\":\"white\",\"showbackground\":true,\"ticks\":\"\",\"zerolinecolor\":\"white\",\"gridwidth\":2}},\"shapedefaults\":{\"line\":{\"color\":\"#2a3f5f\"}},\"annotationdefaults\":{\"arrowcolor\":\"#2a3f5f\",\"arrowhead\":0,\"arrowwidth\":1},\"geo\":{\"bgcolor\":\"white\",\"landcolor\":\"#E5ECF6\",\"subunitcolor\":\"white\",\"showland\":true,\"showlakes\":true,\"lakecolor\":\"white\"},\"title\":{\"x\":0.05},\"mapbox\":{\"style\":\"light\"}}},\"xaxis\":{\"anchor\":\"y\",\"domain\":[0.0,0.49],\"title\":{\"text\":\"\"}},\"yaxis\":{\"anchor\":\"x\",\"domain\":[0.0,1.0],\"title\":{\"text\":\"N\\u00famero de Pessoas\"}},\"xaxis2\":{\"anchor\":\"y2\",\"domain\":[0.51,1.0],\"matches\":\"x\",\"title\":{\"text\":\"\"}},\"yaxis2\":{\"anchor\":\"x2\",\"domain\":[0.0,1.0],\"matches\":\"y\",\"showticklabels\":false},\"annotations\":[{\"showarrow\":false,\"text\":\"Mulheres\",\"x\":0.245,\"xanchor\":\"center\",\"xref\":\"paper\",\"y\":1.0,\"yanchor\":\"bottom\",\"yref\":\"paper\"},{\"showarrow\":false,\"text\":\"Homens\",\"x\":0.755,\"xanchor\":\"center\",\"xref\":\"paper\",\"y\":1.0,\"yanchor\":\"bottom\",\"yref\":\"paper\"},{\"arrowcolor\":\"black\",\"arrowhead\":2,\"ax\":-40,\"ay\":-60,\"font\":{\"color\":\"black\",\"size\":12},\"showarrow\":true,\"text\":\"Maior \\u00edndice de depress\\u00e3o\",\"x\":\"Student\",\"xref\":\"x2\",\"y\":114,\"yref\":\"y2\"},{\"arrowcolor\":\"green\",\"arrowhead\":2,\"ax\":-40,\"ay\":-60,\"font\":{\"color\":\"green\",\"size\":12},\"showarrow\":true,\"text\":\"Menor \\u00edndice de depress\\u00e3o\",\"x\":\"Working Professional\",\"xref\":\"x2\",\"y\":103,\"yref\":\"y2\"}],\"legend\":{\"title\":{\"text\":\"Status de Depress\\u00e3o\"},\"tracegroupgap\":0},\"title\":{\"text\":\"Indice de depress\\u00e3o por G\\u00eanero e Situa\\u00e7\\u00e3o\"},\"barmode\":\"group\"},                        {\"responsive\": true}                    ).then(function(){\n",
       "                            \n",
       "var gd = document.getElementById('354d1039-9696-4e15-a067-47e55ae51169');\n",
       "var x = new MutationObserver(function (mutations, observer) {{\n",
       "        var display = window.getComputedStyle(gd).display;\n",
       "        if (!display || display === 'none') {{\n",
       "            console.log([gd, 'removed!']);\n",
       "            Plotly.purge(gd);\n",
       "            observer.disconnect();\n",
       "        }}\n",
       "}});\n",
       "\n",
       "// Listen for the removal of the full notebook cells\n",
       "var notebookContainer = gd.closest('#notebook-container');\n",
       "if (notebookContainer) {{\n",
       "    x.observe(notebookContainer, {childList: true});\n",
       "}}\n",
       "\n",
       "// Listen for the clearing of the current output cell\n",
       "var outputEl = gd.closest('.output');\n",
       "if (outputEl) {{\n",
       "    x.observe(outputEl, {childList: true});\n",
       "}}\n",
       "\n",
       "                        })                };                });            </script>        </div>"
      ]
     },
     "metadata": {},
     "output_type": "display_data"
    }
   ],
   "source": [
    "import plotly.express as px\n",
    "import pandas as pd\n",
    "\n",
    "# Exemplo de DataFrame\n",
    "# df = pd.read_csv('seu_dataset.csv')\n",
    "\n",
    "# Contagem total por gênero e categoria\n",
    "contagem_total_genero_categoria = df.groupby(['gender', 'working_professional_or_student']).size().reset_index(name='total_count')\n",
    "\n",
    "# Contagem de casos \"Sim\" para depressão por gênero e categoria\n",
    "contagem_sim_genero_categoria = df[df['depression'] == \"Yes\"].groupby(['gender', 'working_professional_or_student']).size().reset_index(name='yes_count')\n",
    "\n",
    "# Combinar os dados\n",
    "dados_analise = contagem_total_genero_categoria.merge(contagem_sim_genero_categoria, on=['gender', 'working_professional_or_student'], how='left').fillna(0)\n",
    "\n",
    "# Preparar os dados para o gráfico\n",
    "dados_analise['no_count'] = dados_analise['total_count'] - dados_analise['yes_count']\n",
    "\n",
    "# Atualizar os rótulos diretamente\n",
    "dados_analise['gender'] = dados_analise['gender'].replace({'Female': 'Mulheres', 'Male': 'Homens'})\n",
    "\n",
    "# Identificar os pontos de destaque\n",
    "destacar_mulher = dados_analise[dados_analise['gender'] == 'Mulheres'].sort_values('yes_count', ascending=False).iloc[0]\n",
    "destacar_homem = dados_analise[dados_analise['gender'] == 'Homens'].sort_values('yes_count', ascending=True).iloc[0]\n",
    "\n",
    "# Criar o gráfico\n",
    "grafico_total_sim = px.bar(\n",
    "    dados_analise.melt(\n",
    "        id_vars=['gender', 'working_professional_or_student'], \n",
    "        value_vars=['yes_count', 'no_count'], \n",
    "        var_name='Depressão', \n",
    "        value_name='count'\n",
    "    ),\n",
    "    x='working_professional_or_student',\n",
    "    y='count',\n",
    "    color='Depressão',\n",
    "    barmode='group',\n",
    "    facet_col='gender',\n",
    "    text='count',\n",
    "    title='Indice de depressão por Gênero e Situação',\n",
    "    labels={\n",
    "        'working_professional_or_student': '',\n",
    "        'count': 'Número de Pessoas',\n",
    "        'Depressão': 'Status de Depressão'\n",
    "    },\n",
    "    color_discrete_map={'yes_count': '#4893FB', 'no_count': '#F9F459'}\n",
    ")\n",
    "\n",
    "# Atualizar os nomes das facetas diretamente\n",
    "grafico_total_sim.for_each_annotation(lambda a: a.update(text=a.text.split('=')[1]))\n",
    "\n",
    "# Ajustar a legenda para exibir valores mais intuitivos\n",
    "grafico_total_sim.for_each_trace(lambda t: t.update(name=\"Sim\" if t.name == \"yes_count\" else \"Não\"))\n",
    "\n",
    "# Adicionar destaque para as mulheres (maior índice de depressão)\n",
    "grafico_total_sim.add_annotation(\n",
    "    x=destacar_mulher['working_professional_or_student'],\n",
    "    y=destacar_mulher['yes_count'],\n",
    "    text=\"Maior índice de depressão\",\n",
    "    showarrow=True,\n",
    "    arrowhead=2,\n",
    "    ax=-40,  # Deslocamento horizontal\n",
    "    ay=-60,  # Deslocamento vertical\n",
    "    arrowcolor='black',\n",
    "    font=dict(color='black', size=12),\n",
    "    xref='x',\n",
    "    yref='y',\n",
    "    row=1,\n",
    "    col=2\n",
    ")\n",
    "\n",
    "\n",
    "# Adicionar destaque para os homens (menor índice de depressão)\n",
    "grafico_total_sim.add_annotation(\n",
    "    x=destacar_homem['working_professional_or_student'],\n",
    "    y=destacar_homem['yes_count'],\n",
    "    text=\"Menor índice de depressão\",\n",
    "    showarrow=True,\n",
    "    arrowhead=2,\n",
    "    ax=-40,\n",
    "    ay=-60,\n",
    "    arrowcolor='green',\n",
    "    font=dict(color='green', size=12),\n",
    "    xref='x',\n",
    "    yref='y',\n",
    "    row=1,\n",
    "    col=2\n",
    ")\n",
    "\n",
    "# Exibir o gráfico\n",
    "grafico_total_sim.show()\n"
   ]
  },
  {
   "cell_type": "markdown",
   "id": "6cfec072-42e2-45c7-953b-f3840e127072",
   "metadata": {},
   "source": [
    "Neste gráfico podemos ver o índice de depressão por genero e situação. Neste caso vimos que a mulher estudante tem o indice mais alto de depressão, enquanto o homem profissional tem o menor."
   ]
  }
 ],
 "metadata": {
  "kernelspec": {
   "display_name": "Python 3 (ipykernel)",
   "language": "python",
   "name": "python3"
  },
  "language_info": {
   "codemirror_mode": {
    "name": "ipython",
    "version": 3
   },
   "file_extension": ".py",
   "mimetype": "text/x-python",
   "name": "python",
   "nbconvert_exporter": "python",
   "pygments_lexer": "ipython3",
   "version": "3.12.4"
  }
 },
 "nbformat": 4,
 "nbformat_minor": 5
}
