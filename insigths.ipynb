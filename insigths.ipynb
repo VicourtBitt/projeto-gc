{
 "cells": [
  {
   "cell_type": "code",
   "execution_count": 66,
   "id": "fd9cfaa7-c85a-45a6-acbe-ce1713754236",
   "metadata": {},
   "outputs": [
    {
     "name": "stdout",
     "output_type": "stream",
     "text": [
      "<class 'pandas.core.frame.DataFrame'>\n",
      "RangeIndex: 2556 entries, 0 to 2555\n",
      "Data columns (total 19 columns):\n",
      " #   Column                                 Non-Null Count  Dtype  \n",
      "---  ------                                 --------------  -----  \n",
      " 0   Name                                   2556 non-null   object \n",
      " 1   Gender                                 2556 non-null   object \n",
      " 2   Age                                    2556 non-null   int64  \n",
      " 3   City                                   2556 non-null   object \n",
      " 4   Working Professional or Student        2556 non-null   object \n",
      " 5   Profession                             1883 non-null   object \n",
      " 6   Academic Pressure                      502 non-null    float64\n",
      " 7   Work Pressure                          2054 non-null   float64\n",
      " 8   CGPA                                   502 non-null    float64\n",
      " 9   Study Satisfaction                     502 non-null    float64\n",
      " 10  Job Satisfaction                       2054 non-null   float64\n",
      " 11  Sleep Duration                         2556 non-null   object \n",
      " 12  Dietary Habits                         2556 non-null   object \n",
      " 13  Degree                                 2556 non-null   object \n",
      " 14  Have you ever had suicidal thoughts ?  2556 non-null   object \n",
      " 15  Work/Study Hours                       2556 non-null   int64  \n",
      " 16  Financial Stress                       2556 non-null   int64  \n",
      " 17  Family History of Mental Illness       2556 non-null   object \n",
      " 18  Depression                             2556 non-null   object \n",
      "dtypes: float64(5), int64(3), object(11)\n",
      "memory usage: 379.5+ KB\n"
     ]
    }
   ],
   "source": [
    "import pandas as pd \n",
    "df = pd.read_csv('final_depression_dataset_1.csv')\n",
    "df.info()"
   ]
  },
  {
   "cell_type": "code",
   "execution_count": 78,
   "id": "5a875d72-7d04-4b94-87f3-62991b10fd6b",
   "metadata": {},
   "outputs": [
    {
     "data": {
      "text/plain": [
       "Depression\n",
       "Yes    252\n",
       "Name: count, dtype: int64"
      ]
     },
     "execution_count": 78,
     "metadata": {},
     "output_type": "execute_result"
    }
   ],
   "source": [
    "df_student = df[(df['Working Professional or Student'] != 'Working Professional') & (df['Depression'] == 'Yes')]\n",
    "df_student['Depression'].value_counts()"
   ]
  },
  {
   "cell_type": "code",
   "execution_count": 75,
   "id": "34a6456c-66d7-4399-9de8-029f75ab12a1",
   "metadata": {},
   "outputs": [
    {
     "data": {
      "text/plain": [
       "Depression\n",
       "Yes    203\n",
       "Name: count, dtype: int64"
      ]
     },
     "execution_count": 75,
     "metadata": {},
     "output_type": "execute_result"
    }
   ],
   "source": [
    "df_professional = df[(df['Working Professional or Student'] != 'Student') & (df['Depression'] == 'Yes')]\n",
    "df_professional['Depression'].value_counts()"
   ]
  },
  {
   "cell_type": "code",
   "execution_count": null,
   "id": "89cac684-924b-4485-b77d-a6bb224cd1b4",
   "metadata": {},
   "outputs": [],
   "source": []
  }
 ],
 "metadata": {
  "kernelspec": {
   "display_name": "Python 3 (ipykernel)",
   "language": "python",
   "name": "python3"
  },
  "language_info": {
   "codemirror_mode": {
    "name": "ipython",
    "version": 3
   },
   "file_extension": ".py",
   "mimetype": "text/x-python",
   "name": "python",
   "nbconvert_exporter": "python",
   "pygments_lexer": "ipython3",
   "version": "3.12.4"
  }
 },
 "nbformat": 4,
 "nbformat_minor": 5
}
